{
 "cells": [
  {
   "cell_type": "markdown",
   "id": "86d8653a",
   "metadata": {
    "papermill": {
     "duration": 0.016148,
     "end_time": "2023-11-28T05:51:33.795767",
     "exception": false,
     "start_time": "2023-11-28T05:51:33.779619",
     "status": "completed"
    },
    "tags": []
   },
   "source": [
    "# 수치형 변수 변환하기\n",
    "\n",
    "\n",
    "### 주어진 데이터에서 20세 이상인 데이터를 추출하고 'f1'컬럼을 결측치를 최빈값으로 채운 후, f1 컬럼의 여-존슨과 박스콕스 변환 값을 구하고, 두 값의 차이를 절대값으로 구한다음 모두 더해 소수점 둘째 자리까지 출력(반올림)하시오\n",
    "- 데이터셋 : basic1.csv\n",
    "- 오른쪽 상단 copy&edit 클릭 -> 예상문제 풀이 시작"
   ]
  },
  {
   "cell_type": "markdown",
   "id": "e6dc8817",
   "metadata": {
    "papermill": {
     "duration": 0.012696,
     "end_time": "2023-11-28T05:51:33.821924",
     "exception": false,
     "start_time": "2023-11-28T05:51:33.809228",
     "status": "completed"
    },
    "tags": []
   },
   "source": [
    "### 박스-콕스\n",
    "![박스-콕스](https://wikimedia.org/api/rest_v1/media/math/render/svg/b565ae8f1cce1e4035e2a36213b8c9ce34b5029d)\n",
    "\n",
    "### 여-존슨\n",
    "![여-존슨](https://wikimedia.org/api/rest_v1/media/math/render/svg/2a99e24c81226f3d0547c471281197ea265553c5)"
   ]
  },
  {
   "cell_type": "code",
   "execution_count": 1,
   "id": "7a7d6ead",
   "metadata": {
    "execution": {
     "iopub.execute_input": "2023-11-28T05:51:33.852131Z",
     "iopub.status.busy": "2023-11-28T05:51:33.851198Z",
     "iopub.status.idle": "2023-11-28T05:51:33.884905Z",
     "shell.execute_reply": "2023-11-28T05:51:33.884348Z",
     "shell.execute_reply.started": "2023-11-28T05:25:05.833375Z"
    },
    "papermill": {
     "duration": 0.049808,
     "end_time": "2023-11-28T05:51:33.885047",
     "exception": false,
     "start_time": "2023-11-28T05:51:33.835239",
     "status": "completed"
    },
    "tags": []
   },
   "outputs": [
    {
     "data": {
      "text/html": [
       "<div>\n",
       "<style scoped>\n",
       "    .dataframe tbody tr th:only-of-type {\n",
       "        vertical-align: middle;\n",
       "    }\n",
       "\n",
       "    .dataframe tbody tr th {\n",
       "        vertical-align: top;\n",
       "    }\n",
       "\n",
       "    .dataframe thead th {\n",
       "        text-align: right;\n",
       "    }\n",
       "</style>\n",
       "<table border=\"1\" class=\"dataframe\">\n",
       "  <thead>\n",
       "    <tr style=\"text-align: right;\">\n",
       "      <th></th>\n",
       "      <th>id</th>\n",
       "      <th>age</th>\n",
       "      <th>city</th>\n",
       "      <th>f1</th>\n",
       "      <th>f2</th>\n",
       "      <th>f3</th>\n",
       "      <th>f4</th>\n",
       "      <th>f5</th>\n",
       "    </tr>\n",
       "  </thead>\n",
       "  <tbody>\n",
       "    <tr>\n",
       "      <th>0</th>\n",
       "      <td>id01</td>\n",
       "      <td>2.0</td>\n",
       "      <td>서울</td>\n",
       "      <td>NaN</td>\n",
       "      <td>0</td>\n",
       "      <td>NaN</td>\n",
       "      <td>ENFJ</td>\n",
       "      <td>91.297791</td>\n",
       "    </tr>\n",
       "    <tr>\n",
       "      <th>1</th>\n",
       "      <td>id02</td>\n",
       "      <td>9.0</td>\n",
       "      <td>서울</td>\n",
       "      <td>70.0</td>\n",
       "      <td>1</td>\n",
       "      <td>NaN</td>\n",
       "      <td>ENFJ</td>\n",
       "      <td>60.339826</td>\n",
       "    </tr>\n",
       "    <tr>\n",
       "      <th>2</th>\n",
       "      <td>id03</td>\n",
       "      <td>27.0</td>\n",
       "      <td>서울</td>\n",
       "      <td>61.0</td>\n",
       "      <td>1</td>\n",
       "      <td>NaN</td>\n",
       "      <td>ISTJ</td>\n",
       "      <td>17.252986</td>\n",
       "    </tr>\n",
       "    <tr>\n",
       "      <th>3</th>\n",
       "      <td>id04</td>\n",
       "      <td>75.0</td>\n",
       "      <td>서울</td>\n",
       "      <td>NaN</td>\n",
       "      <td>2</td>\n",
       "      <td>NaN</td>\n",
       "      <td>INFP</td>\n",
       "      <td>52.667078</td>\n",
       "    </tr>\n",
       "    <tr>\n",
       "      <th>4</th>\n",
       "      <td>id05</td>\n",
       "      <td>24.0</td>\n",
       "      <td>서울</td>\n",
       "      <td>85.0</td>\n",
       "      <td>2</td>\n",
       "      <td>NaN</td>\n",
       "      <td>ISFJ</td>\n",
       "      <td>29.269869</td>\n",
       "    </tr>\n",
       "  </tbody>\n",
       "</table>\n",
       "</div>"
      ],
      "text/plain": [
       "     id   age city    f1  f2   f3    f4         f5\n",
       "0  id01   2.0   서울   NaN   0  NaN  ENFJ  91.297791\n",
       "1  id02   9.0   서울  70.0   1  NaN  ENFJ  60.339826\n",
       "2  id03  27.0   서울  61.0   1  NaN  ISTJ  17.252986\n",
       "3  id04  75.0   서울   NaN   2  NaN  INFP  52.667078\n",
       "4  id05  24.0   서울  85.0   2  NaN  ISFJ  29.269869"
      ]
     },
     "execution_count": 1,
     "metadata": {},
     "output_type": "execute_result"
    }
   ],
   "source": [
    "# 라이브러리 및 데이터 불러오기\n",
    "import pandas as pd\n",
    "import numpy as np\n",
    "df = pd.read_csv('/kaggle/input/bigdatacertificationkr/basic1.csv')\n",
    "df.head()"
   ]
  },
  {
   "cell_type": "code",
   "execution_count": 2,
   "id": "8f453d55",
   "metadata": {
    "execution": {
     "iopub.execute_input": "2023-11-28T05:51:33.927088Z",
     "iopub.status.busy": "2023-11-28T05:51:33.926304Z",
     "iopub.status.idle": "2023-11-28T05:51:33.937249Z",
     "shell.execute_reply": "2023-11-28T05:51:33.937779Z",
     "shell.execute_reply.started": "2023-11-28T05:25:34.453642Z"
    },
    "papermill": {
     "duration": 0.037745,
     "end_time": "2023-11-28T05:51:33.937949",
     "exception": false,
     "start_time": "2023-11-28T05:51:33.900204",
     "status": "completed"
    },
    "tags": []
   },
   "outputs": [
    {
     "data": {
      "text/html": [
       "<div>\n",
       "<style scoped>\n",
       "    .dataframe tbody tr th:only-of-type {\n",
       "        vertical-align: middle;\n",
       "    }\n",
       "\n",
       "    .dataframe tbody tr th {\n",
       "        vertical-align: top;\n",
       "    }\n",
       "\n",
       "    .dataframe thead th {\n",
       "        text-align: right;\n",
       "    }\n",
       "</style>\n",
       "<table border=\"1\" class=\"dataframe\">\n",
       "  <thead>\n",
       "    <tr style=\"text-align: right;\">\n",
       "      <th></th>\n",
       "      <th>id</th>\n",
       "      <th>age</th>\n",
       "      <th>city</th>\n",
       "      <th>f1</th>\n",
       "      <th>f2</th>\n",
       "      <th>f3</th>\n",
       "      <th>f4</th>\n",
       "      <th>f5</th>\n",
       "    </tr>\n",
       "  </thead>\n",
       "  <tbody>\n",
       "    <tr>\n",
       "      <th>2</th>\n",
       "      <td>id03</td>\n",
       "      <td>27.0</td>\n",
       "      <td>서울</td>\n",
       "      <td>61.0</td>\n",
       "      <td>1</td>\n",
       "      <td>NaN</td>\n",
       "      <td>ISTJ</td>\n",
       "      <td>17.252986</td>\n",
       "    </tr>\n",
       "    <tr>\n",
       "      <th>3</th>\n",
       "      <td>id04</td>\n",
       "      <td>75.0</td>\n",
       "      <td>서울</td>\n",
       "      <td>NaN</td>\n",
       "      <td>2</td>\n",
       "      <td>NaN</td>\n",
       "      <td>INFP</td>\n",
       "      <td>52.667078</td>\n",
       "    </tr>\n",
       "    <tr>\n",
       "      <th>4</th>\n",
       "      <td>id05</td>\n",
       "      <td>24.0</td>\n",
       "      <td>서울</td>\n",
       "      <td>85.0</td>\n",
       "      <td>2</td>\n",
       "      <td>NaN</td>\n",
       "      <td>ISFJ</td>\n",
       "      <td>29.269869</td>\n",
       "    </tr>\n",
       "    <tr>\n",
       "      <th>5</th>\n",
       "      <td>id06</td>\n",
       "      <td>22.0</td>\n",
       "      <td>서울</td>\n",
       "      <td>57.0</td>\n",
       "      <td>0</td>\n",
       "      <td>vip</td>\n",
       "      <td>INTP</td>\n",
       "      <td>20.129444</td>\n",
       "    </tr>\n",
       "    <tr>\n",
       "      <th>6</th>\n",
       "      <td>id07</td>\n",
       "      <td>36.3</td>\n",
       "      <td>서울</td>\n",
       "      <td>60.0</td>\n",
       "      <td>1</td>\n",
       "      <td>NaN</td>\n",
       "      <td>ISFJ</td>\n",
       "      <td>9.796378</td>\n",
       "    </tr>\n",
       "  </tbody>\n",
       "</table>\n",
       "</div>"
      ],
      "text/plain": [
       "     id   age city    f1  f2   f3    f4         f5\n",
       "2  id03  27.0   서울  61.0   1  NaN  ISTJ  17.252986\n",
       "3  id04  75.0   서울   NaN   2  NaN  INFP  52.667078\n",
       "4  id05  24.0   서울  85.0   2  NaN  ISFJ  29.269869\n",
       "5  id06  22.0   서울  57.0   0  vip  INTP  20.129444\n",
       "6  id07  36.3   서울  60.0   1  NaN  ISFJ   9.796378"
      ]
     },
     "execution_count": 2,
     "metadata": {},
     "output_type": "execute_result"
    }
   ],
   "source": [
    "# 조건에 맞는 데이터\n",
    "df = df[df['age']>=20]\n",
    "df.head()"
   ]
  },
  {
   "cell_type": "code",
   "execution_count": 3,
   "id": "d9f4cce2",
   "metadata": {
    "execution": {
     "iopub.execute_input": "2023-11-28T05:51:33.978096Z",
     "iopub.status.busy": "2023-11-28T05:51:33.977271Z",
     "iopub.status.idle": "2023-11-28T05:51:33.982295Z",
     "shell.execute_reply": "2023-11-28T05:51:33.982682Z",
     "shell.execute_reply.started": "2023-11-28T05:35:08.890263Z"
    },
    "papermill": {
     "duration": 0.029606,
     "end_time": "2023-11-28T05:51:33.982851",
     "exception": false,
     "start_time": "2023-11-28T05:51:33.953245",
     "status": "completed"
    },
    "tags": []
   },
   "outputs": [
    {
     "data": {
      "text/plain": [
       "0"
      ]
     },
     "execution_count": 3,
     "metadata": {},
     "output_type": "execute_result"
    }
   ],
   "source": [
    "# 최빈값으로 'f1' 컬럼 결측치 대체\n",
    "\n",
    "df['f1'] = df['f1'].fillna(df['f1'].mode()[0])\n",
    "df['f1'].isnull().sum()"
   ]
  },
  {
   "cell_type": "code",
   "execution_count": 4,
   "id": "feb325f0",
   "metadata": {
    "execution": {
     "iopub.execute_input": "2023-11-28T05:51:34.022852Z",
     "iopub.status.busy": "2023-11-28T05:51:34.022141Z",
     "iopub.status.idle": "2023-11-28T05:51:34.793119Z",
     "shell.execute_reply": "2023-11-28T05:51:34.793538Z",
     "shell.execute_reply.started": "2023-11-28T05:45:42.467634Z"
    },
    "papermill": {
     "duration": 0.796629,
     "end_time": "2023-11-28T05:51:34.793707",
     "exception": false,
     "start_time": "2023-11-28T05:51:33.997078",
     "status": "completed"
    },
    "tags": []
   },
   "outputs": [],
   "source": [
    "# 'f1'데이터 여-존슨 yeo-johnson 값 구하기\n",
    "from sklearn.preprocessing import power_transform\n",
    "df['y'] = power_transform(df[['f1']])"
   ]
  },
  {
   "cell_type": "code",
   "execution_count": 5,
   "id": "6d95803e",
   "metadata": {
    "execution": {
     "iopub.execute_input": "2023-11-28T05:51:34.825465Z",
     "iopub.status.busy": "2023-11-28T05:51:34.824965Z",
     "iopub.status.idle": "2023-11-28T05:51:34.834143Z",
     "shell.execute_reply": "2023-11-28T05:51:34.833407Z",
     "shell.execute_reply.started": "2023-11-28T05:45:51.025525Z"
    },
    "papermill": {
     "duration": 0.0262,
     "end_time": "2023-11-28T05:51:34.834292",
     "exception": false,
     "start_time": "2023-11-28T05:51:34.808092",
     "status": "completed"
    },
    "tags": []
   },
   "outputs": [],
   "source": [
    "# 'f1'데이터 박스-콕스 box-cox 값 구하기\n",
    "df['b'] = power_transform(df[['f1']], method='box-cox')"
   ]
  },
  {
   "cell_type": "code",
   "execution_count": 6,
   "id": "3fe95855",
   "metadata": {
    "execution": {
     "iopub.execute_input": "2023-11-28T05:51:34.867342Z",
     "iopub.status.busy": "2023-11-28T05:51:34.866721Z",
     "iopub.status.idle": "2023-11-28T05:51:34.874062Z",
     "shell.execute_reply": "2023-11-28T05:51:34.873468Z",
     "shell.execute_reply.started": "2023-11-28T05:46:46.899342Z"
    },
    "papermill": {
     "duration": 0.025158,
     "end_time": "2023-11-28T05:51:34.874214",
     "exception": false,
     "start_time": "2023-11-28T05:51:34.849056",
     "status": "completed"
    },
    "tags": []
   },
   "outputs": [
    {
     "data": {
      "text/plain": [
       "0.05"
      ]
     },
     "execution_count": 6,
     "metadata": {},
     "output_type": "execute_result"
    }
   ],
   "source": [
    "# 두 값의 차이를 절대값으로 구한다음 모두 더해 소수점 둘째 자리까지 출력(반올림)\n",
    "round(sum(abs(df['y']-df['b'])),2)"
   ]
  },
  {
   "cell_type": "markdown",
   "id": "daca539e",
   "metadata": {
    "papermill": {
     "duration": 0.014728,
     "end_time": "2023-11-28T05:51:34.903406",
     "exception": false,
     "start_time": "2023-11-28T05:51:34.888678",
     "status": "completed"
    },
    "tags": []
   },
   "source": [
    "## Hint\n",
    "- https://scikit-learn.org/stable/modules/generated/sklearn.preprocessing.power_transform.html"
   ]
  },
  {
   "cell_type": "code",
   "execution_count": 7,
   "id": "cb469917",
   "metadata": {
    "execution": {
     "iopub.execute_input": "2023-11-28T05:51:34.937164Z",
     "iopub.status.busy": "2023-11-28T05:51:34.936435Z",
     "iopub.status.idle": "2023-11-28T05:51:34.950561Z",
     "shell.execute_reply": "2023-11-28T05:51:34.950086Z",
     "shell.execute_reply.started": "2021-10-21T00:17:29.742291Z"
    },
    "papermill": {
     "duration": 0.031688,
     "end_time": "2023-11-28T05:51:34.950722",
     "exception": false,
     "start_time": "2023-11-28T05:51:34.919034",
     "status": "completed"
    },
    "tags": []
   },
   "outputs": [
    {
     "name": "stdout",
     "output_type": "stream",
     "text": [
      "[[-1.27332767 -1.24414502]\n",
      " [ 0.10376846  0.03976901]\n",
      " [ 1.16955921  1.20437601]]\n",
      "[[-1.27548765 -1.24611441]\n",
      " [ 0.1087368   0.04392064]\n",
      " [ 1.16675085  1.20219377]]\n"
     ]
    }
   ],
   "source": [
    "from sklearn.preprocessing import power_transform\n",
    "data = [[11, 12], [23, 22], [34, 35]]\n",
    "print(power_transform(data)) # method 디폴트 값은 여-존슨’yeo-johnson’\n",
    "print(power_transform(data, method='box-cox'))"
   ]
  },
  {
   "cell_type": "markdown",
   "id": "122f6c14",
   "metadata": {
    "papermill": {
     "duration": 0.014402,
     "end_time": "2023-11-28T05:51:34.979992",
     "exception": false,
     "start_time": "2023-11-28T05:51:34.965590",
     "status": "completed"
    },
    "tags": []
   },
   "source": [
    "## 풀이"
   ]
  },
  {
   "cell_type": "code",
   "execution_count": 8,
   "id": "98589657",
   "metadata": {
    "_cell_guid": "b1076dfc-b9ad-4769-8c92-a6c4dae69d19",
    "_uuid": "8f2839f25d086af736a60e9eeb907d3b93b6e0e5",
    "execution": {
     "iopub.execute_input": "2023-11-28T05:51:35.022126Z",
     "iopub.status.busy": "2023-11-28T05:51:35.021403Z",
     "iopub.status.idle": "2023-11-28T05:51:35.037099Z",
     "shell.execute_reply": "2023-11-28T05:51:35.036473Z",
     "shell.execute_reply.started": "2023-11-28T05:47:26.560583Z"
    },
    "papermill": {
     "duration": 0.04271,
     "end_time": "2023-11-28T05:51:35.037236",
     "exception": false,
     "start_time": "2023-11-28T05:51:34.994526",
     "status": "completed"
    },
    "tags": []
   },
   "outputs": [
    {
     "data": {
      "text/html": [
       "<div>\n",
       "<style scoped>\n",
       "    .dataframe tbody tr th:only-of-type {\n",
       "        vertical-align: middle;\n",
       "    }\n",
       "\n",
       "    .dataframe tbody tr th {\n",
       "        vertical-align: top;\n",
       "    }\n",
       "\n",
       "    .dataframe thead th {\n",
       "        text-align: right;\n",
       "    }\n",
       "</style>\n",
       "<table border=\"1\" class=\"dataframe\">\n",
       "  <thead>\n",
       "    <tr style=\"text-align: right;\">\n",
       "      <th></th>\n",
       "      <th>id</th>\n",
       "      <th>age</th>\n",
       "      <th>city</th>\n",
       "      <th>f1</th>\n",
       "      <th>f2</th>\n",
       "      <th>f3</th>\n",
       "      <th>f4</th>\n",
       "      <th>f5</th>\n",
       "    </tr>\n",
       "  </thead>\n",
       "  <tbody>\n",
       "    <tr>\n",
       "      <th>0</th>\n",
       "      <td>id01</td>\n",
       "      <td>2.0</td>\n",
       "      <td>서울</td>\n",
       "      <td>NaN</td>\n",
       "      <td>0</td>\n",
       "      <td>NaN</td>\n",
       "      <td>ENFJ</td>\n",
       "      <td>91.297791</td>\n",
       "    </tr>\n",
       "    <tr>\n",
       "      <th>1</th>\n",
       "      <td>id02</td>\n",
       "      <td>9.0</td>\n",
       "      <td>서울</td>\n",
       "      <td>70.0</td>\n",
       "      <td>1</td>\n",
       "      <td>NaN</td>\n",
       "      <td>ENFJ</td>\n",
       "      <td>60.339826</td>\n",
       "    </tr>\n",
       "    <tr>\n",
       "      <th>2</th>\n",
       "      <td>id03</td>\n",
       "      <td>27.0</td>\n",
       "      <td>서울</td>\n",
       "      <td>61.0</td>\n",
       "      <td>1</td>\n",
       "      <td>NaN</td>\n",
       "      <td>ISTJ</td>\n",
       "      <td>17.252986</td>\n",
       "    </tr>\n",
       "    <tr>\n",
       "      <th>3</th>\n",
       "      <td>id04</td>\n",
       "      <td>75.0</td>\n",
       "      <td>서울</td>\n",
       "      <td>NaN</td>\n",
       "      <td>2</td>\n",
       "      <td>NaN</td>\n",
       "      <td>INFP</td>\n",
       "      <td>52.667078</td>\n",
       "    </tr>\n",
       "    <tr>\n",
       "      <th>4</th>\n",
       "      <td>id05</td>\n",
       "      <td>24.0</td>\n",
       "      <td>서울</td>\n",
       "      <td>85.0</td>\n",
       "      <td>2</td>\n",
       "      <td>NaN</td>\n",
       "      <td>ISFJ</td>\n",
       "      <td>29.269869</td>\n",
       "    </tr>\n",
       "  </tbody>\n",
       "</table>\n",
       "</div>"
      ],
      "text/plain": [
       "     id   age city    f1  f2   f3    f4         f5\n",
       "0  id01   2.0   서울   NaN   0  NaN  ENFJ  91.297791\n",
       "1  id02   9.0   서울  70.0   1  NaN  ENFJ  60.339826\n",
       "2  id03  27.0   서울  61.0   1  NaN  ISTJ  17.252986\n",
       "3  id04  75.0   서울   NaN   2  NaN  INFP  52.667078\n",
       "4  id05  24.0   서울  85.0   2  NaN  ISFJ  29.269869"
      ]
     },
     "execution_count": 8,
     "metadata": {},
     "output_type": "execute_result"
    }
   ],
   "source": [
    "# 라이브러리 및 데이터 불러오기\n",
    "import pandas as pd\n",
    "import numpy as np\n",
    "from sklearn.preprocessing import power_transform\n",
    "\n",
    "df = pd.read_csv('../input/bigdatacertificationkr/basic1.csv')\n",
    "df.head(5)"
   ]
  },
  {
   "cell_type": "code",
   "execution_count": 9,
   "id": "7e9b54ce",
   "metadata": {
    "execution": {
     "iopub.execute_input": "2023-11-28T05:51:35.074706Z",
     "iopub.status.busy": "2023-11-28T05:51:35.073870Z",
     "iopub.status.idle": "2023-11-28T05:51:35.078907Z",
     "shell.execute_reply": "2023-11-28T05:51:35.078225Z",
     "shell.execute_reply.started": "2023-11-28T05:47:28.400386Z"
    },
    "papermill": {
     "duration": 0.026259,
     "end_time": "2023-11-28T05:51:35.079048",
     "exception": false,
     "start_time": "2023-11-28T05:51:35.052789",
     "status": "completed"
    },
    "tags": []
   },
   "outputs": [
    {
     "name": "stdout",
     "output_type": "stream",
     "text": [
      "조건 적용 전: (100, 8)\n",
      "조건 적용 후: (83, 8)\n"
     ]
    }
   ],
   "source": [
    "# 조건에 맞는 데이터\n",
    "print(\"조건 적용 전:\", df.shape)\n",
    "df = df[df['age']>=20]\n",
    "print(\"조건 적용 후:\", df.shape)"
   ]
  },
  {
   "cell_type": "code",
   "execution_count": 10,
   "id": "4eaae0ea",
   "metadata": {
    "execution": {
     "iopub.execute_input": "2023-11-28T05:51:35.122266Z",
     "iopub.status.busy": "2023-11-28T05:51:35.121553Z",
     "iopub.status.idle": "2023-11-28T05:51:35.126328Z",
     "shell.execute_reply": "2023-11-28T05:51:35.125848Z",
     "shell.execute_reply.started": "2023-11-28T05:47:29.997327Z"
    },
    "papermill": {
     "duration": 0.030859,
     "end_time": "2023-11-28T05:51:35.126446",
     "exception": false,
     "start_time": "2023-11-28T05:51:35.095587",
     "status": "completed"
    },
    "tags": []
   },
   "outputs": [
    {
     "name": "stdout",
     "output_type": "stream",
     "text": [
      "결측치 처리 전: \n",
      " id       0\n",
      "age      0\n",
      "city     0\n",
      "f1      26\n",
      "f2       0\n",
      "f3      78\n",
      "f4       0\n",
      "f5       0\n",
      "dtype: int64\n",
      "최빈값:  50.0\n",
      "결측치 처리 후: \n",
      " id       0\n",
      "age      0\n",
      "city     0\n",
      "f1       0\n",
      "f2       0\n",
      "f3      78\n",
      "f4       0\n",
      "f5       0\n",
      "dtype: int64\n"
     ]
    }
   ],
   "source": [
    "# 최빈값으로 'f1' 컬럼 결측치 대체\n",
    "print(\"결측치 처리 전: \\n\", df.isnull().sum())\n",
    "print(\"최빈값: \",df['f1'].mode()[0])\n",
    "df['f1'] = df['f1'].fillna(df['f1'].mode()[0])\n",
    "print(\"결측치 처리 후: \\n\", df.isnull().sum())   "
   ]
  },
  {
   "cell_type": "code",
   "execution_count": 11,
   "id": "6141c3ea",
   "metadata": {
    "execution": {
     "iopub.execute_input": "2023-11-28T05:51:35.170449Z",
     "iopub.status.busy": "2023-11-28T05:51:35.169857Z",
     "iopub.status.idle": "2023-11-28T05:51:35.175705Z",
     "shell.execute_reply": "2023-11-28T05:51:35.175164Z",
     "shell.execute_reply.started": "2023-11-28T05:47:32.760483Z"
    },
    "papermill": {
     "duration": 0.033494,
     "end_time": "2023-11-28T05:51:35.175897",
     "exception": false,
     "start_time": "2023-11-28T05:51:35.142403",
     "status": "completed"
    },
    "tags": []
   },
   "outputs": [
    {
     "data": {
      "text/plain": [
       "2    0.101083\n",
       "3   -0.585402\n",
       "4    1.463459\n",
       "5   -0.143094\n",
       "6    0.040578\n",
       "Name: y, dtype: float64"
      ]
     },
     "execution_count": 11,
     "metadata": {},
     "output_type": "execute_result"
    }
   ],
   "source": [
    "# 'f1'데이터 여-존슨 yeo-johnson 값 구하기\n",
    "df['y'] = power_transform(df[['f1']]) # method 디폴트 값은 여-존슨’yeo-johnson’\n",
    "df['y'].head()"
   ]
  },
  {
   "cell_type": "code",
   "execution_count": 12,
   "id": "48f9ba42",
   "metadata": {
    "execution": {
     "iopub.execute_input": "2023-11-28T05:51:35.223266Z",
     "iopub.status.busy": "2023-11-28T05:51:35.222462Z",
     "iopub.status.idle": "2023-11-28T05:51:35.226710Z",
     "shell.execute_reply": "2023-11-28T05:51:35.226138Z",
     "shell.execute_reply.started": "2023-11-28T05:46:59.622593Z"
    },
    "papermill": {
     "duration": 0.034518,
     "end_time": "2023-11-28T05:51:35.226883",
     "exception": false,
     "start_time": "2023-11-28T05:51:35.192365",
     "status": "completed"
    },
    "tags": []
   },
   "outputs": [
    {
     "data": {
      "text/plain": [
       "2    20.583423\n",
       "3    17.968081\n",
       "4    25.773745\n",
       "5    19.653167\n",
       "6    20.352915\n",
       "Name: y, dtype: float64"
      ]
     },
     "execution_count": 12,
     "metadata": {},
     "output_type": "execute_result"
    }
   ],
   "source": [
    "# 'f1'데이터 여-존슨 yeo-johnson 값 구하기\n",
    "df['y'] = power_transform(df[['f1']],standardize=False) # method 디폴트 값은 여-존슨’yeo-johnson’\n",
    "df['y'].head()"
   ]
  },
  {
   "cell_type": "code",
   "execution_count": 13,
   "id": "543b233d",
   "metadata": {
    "execution": {
     "iopub.execute_input": "2023-11-28T05:51:35.271109Z",
     "iopub.status.busy": "2023-11-28T05:51:35.270094Z",
     "iopub.status.idle": "2023-11-28T05:51:35.275016Z",
     "shell.execute_reply": "2023-11-28T05:51:35.274379Z",
     "shell.execute_reply.started": "2023-11-28T05:47:35.812594Z"
    },
    "papermill": {
     "duration": 0.031727,
     "end_time": "2023-11-28T05:51:35.275150",
     "exception": false,
     "start_time": "2023-11-28T05:51:35.243423",
     "status": "completed"
    },
    "tags": []
   },
   "outputs": [
    {
     "data": {
      "text/plain": [
       "2    0.100290\n",
       "3   -0.585656\n",
       "4    1.463969\n",
       "5   -0.143784\n",
       "6    0.039801\n",
       "Name: b, dtype: float64"
      ]
     },
     "execution_count": 13,
     "metadata": {},
     "output_type": "execute_result"
    }
   ],
   "source": [
    "# 'f1'데이터 박스-콕스 box-cox 값 구하기\n",
    "df['b'] = power_transform(df[['f1']], method='box-cox')\n",
    "df['b'].head()"
   ]
  },
  {
   "cell_type": "code",
   "execution_count": 14,
   "id": "f11c8acb",
   "metadata": {
    "execution": {
     "iopub.execute_input": "2023-11-28T05:51:35.319843Z",
     "iopub.status.busy": "2023-11-28T05:51:35.319025Z",
     "iopub.status.idle": "2023-11-28T05:51:35.322718Z",
     "shell.execute_reply": "2023-11-28T05:51:35.322195Z",
     "shell.execute_reply.started": "2023-11-28T05:47:03.319493Z"
    },
    "papermill": {
     "duration": 0.030545,
     "end_time": "2023-11-28T05:51:35.322867",
     "exception": false,
     "start_time": "2023-11-28T05:51:35.292322",
     "status": "completed"
    },
    "tags": []
   },
   "outputs": [
    {
     "data": {
      "text/plain": [
       "2    21.067090\n",
       "3    18.305263\n",
       "4    26.557680\n",
       "5    20.084373\n",
       "6    20.823545\n",
       "Name: b, dtype: float64"
      ]
     },
     "execution_count": 14,
     "metadata": {},
     "output_type": "execute_result"
    }
   ],
   "source": [
    "# 'f1'데이터 박스-콕스 box-cox 값 구하기\n",
    "# 추가 2022.6.21 \n",
    "# standardize=False는 python과 R의 디폴트가 달라 결과를 맞추기 위함이었어요! 이번 문제는 출제 가능성이 낮아 보여요 (이미 풀이한 분들이 있어 그대로 두었습니다.)\n",
    "df['b'] = power_transform(df[['f1']], method='box-cox', standardize=False)\n",
    "df['b'].head()"
   ]
  },
  {
   "cell_type": "code",
   "execution_count": 15,
   "id": "f01d7df0",
   "metadata": {
    "execution": {
     "iopub.execute_input": "2023-11-28T05:51:35.366526Z",
     "iopub.status.busy": "2023-11-28T05:51:35.365721Z",
     "iopub.status.idle": "2023-11-28T05:51:35.369578Z",
     "shell.execute_reply": "2023-11-28T05:51:35.369126Z",
     "shell.execute_reply.started": "2021-11-08T04:15:04.974866Z"
    },
    "papermill": {
     "duration": 0.028437,
     "end_time": "2023-11-28T05:51:35.369727",
     "exception": false,
     "start_time": "2023-11-28T05:51:35.341290",
     "status": "completed"
    },
    "tags": []
   },
   "outputs": [
    {
     "data": {
      "text/plain": [
       "(array([21.06708953, 18.3052633 , 26.5576802 , 20.08437298, 20.82354507,\n",
       "        29.92014513, 24.11822132, 22.73510562, 18.3052633 , 18.3052633 ,\n",
       "        22.50057055, 26.5576802 , 18.3052633 , 26.9892231 , 18.3052633 ,\n",
       "        18.3052633 , 24.34492271, 16.71079147, 18.3052633 , 20.08437298,\n",
       "        20.82354507, 13.87430348, 24.79522889, 21.78961583, 28.47348918,\n",
       "        18.3052633 , 18.3052633 , 24.79522889, 18.3052633 , 18.3052633 ,\n",
       "        18.3052633 , 24.34492271, 19.58413896, 17.78149164, 20.82354507,\n",
       "        18.3052633 , 27.20371216, 18.3052633 , 24.34492271, 27.20371216,\n",
       "        25.01886978, 18.3052633 , 25.90374843, 18.3052633 , 18.3052633 ,\n",
       "        21.55009581, 18.3052633 , 18.3052633 , 18.3052633 , 21.30926323,\n",
       "        18.3052633 , 26.77388356, 21.30926323, 18.3052633 , 18.3052633 ,\n",
       "        18.82186921, 16.9815023 , 26.5576802 , 26.34059934, 18.3052633 ,\n",
       "        29.30451924, 17.51679379,  6.25392521, 12.96923726, 28.89049447,\n",
       "        18.3052633 , 20.82354507, 18.3052633 , 18.3052633 , 18.3052633 ,\n",
       "        16.71079147, 19.58413896, 24.34492271, 22.26482716, 18.3052633 ,\n",
       "        25.01886978, 20.08437298, 18.3052633 , 16.43795391, 19.07760136,\n",
       "        18.3052633 , 20.33221948, 19.07760136]),\n",
       " 0.6557192658257479)"
      ]
     },
     "execution_count": 15,
     "metadata": {},
     "output_type": "execute_result"
    }
   ],
   "source": [
    "## 박스콕스 방법2\n",
    "from scipy import stats\n",
    "x = stats.boxcox(df['f1'])\n",
    "x"
   ]
  },
  {
   "cell_type": "code",
   "execution_count": 16,
   "id": "32b2dfe0",
   "metadata": {
    "execution": {
     "iopub.execute_input": "2023-11-28T05:51:35.411604Z",
     "iopub.status.busy": "2023-11-28T05:51:35.410831Z",
     "iopub.status.idle": "2023-11-28T05:51:35.415423Z",
     "shell.execute_reply": "2023-11-28T05:51:35.414912Z",
     "shell.execute_reply.started": "2023-11-28T05:47:38.470624Z"
    },
    "papermill": {
     "duration": 0.028321,
     "end_time": "2023-11-28T05:51:35.415553",
     "exception": false,
     "start_time": "2023-11-28T05:51:35.387232",
     "status": "completed"
    },
    "tags": []
   },
   "outputs": [
    {
     "data": {
      "text/plain": [
       "39.17"
      ]
     },
     "execution_count": 16,
     "metadata": {},
     "output_type": "execute_result"
    }
   ],
   "source": [
    "# 두 값의 차이를 절대값으로 구한다음 모두 더해 소수점 둘째 자리까지 출력(반올림)\n",
    "round(sum(np.abs(df['y'] - df['b'])),2)"
   ]
  }
 ],
 "metadata": {
  "kaggle": {
   "accelerator": "none",
   "dataSources": [
    {
     "datasetId": 1633303,
     "sourceId": 7061047,
     "sourceType": "datasetVersion"
    }
   ],
   "dockerImageVersionId": 30138,
   "isGpuEnabled": false,
   "isInternetEnabled": true,
   "language": "python",
   "sourceType": "notebook"
  },
  "kernelspec": {
   "display_name": "Python 3",
   "language": "python",
   "name": "python3"
  },
  "language_info": {
   "codemirror_mode": {
    "name": "ipython",
    "version": 3
   },
   "file_extension": ".py",
   "mimetype": "text/x-python",
   "name": "python",
   "nbconvert_exporter": "python",
   "pygments_lexer": "ipython3",
   "version": "3.7.10"
  },
  "papermill": {
   "default_parameters": {},
   "duration": 9.866588,
   "end_time": "2023-11-28T05:51:36.042296",
   "environment_variables": {},
   "exception": null,
   "input_path": "__notebook__.ipynb",
   "output_path": "__notebook__.ipynb",
   "parameters": {},
   "start_time": "2023-11-28T05:51:26.175708",
   "version": "2.3.3"
  }
 },
 "nbformat": 4,
 "nbformat_minor": 5
}
