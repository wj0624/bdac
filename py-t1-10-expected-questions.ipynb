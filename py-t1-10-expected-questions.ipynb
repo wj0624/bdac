{
 "cells": [
  {
   "cell_type": "markdown",
   "id": "6961e4b8",
   "metadata": {
    "papermill": {
     "duration": 0.025311,
     "end_time": "2023-11-28T05:48:15.113565",
     "exception": false,
     "start_time": "2023-11-28T05:48:15.088254",
     "status": "completed"
    },
    "tags": []
   },
   "source": [
    "# 수치형 변수 변환하기\n",
    "\n",
    "\n",
    "### 주어진 데이터에서 20세 이상인 데이터를 추출하고 'f1'컬럼을 결측치를 최빈값으로 채운 후, f1 컬럼의 여-존슨과 박스콕스 변환 값을 구하고, 두 값의 차이를 절대값으로 구한다음 모두 더해 소수점 둘째 자리까지 출력(반올림)하시오\n",
    "- 데이터셋 : basic1.csv\n",
    "- 오른쪽 상단 copy&edit 클릭 -> 예상문제 풀이 시작"
   ]
  },
  {
   "cell_type": "markdown",
   "id": "7c61814d",
   "metadata": {
    "papermill": {
     "duration": 0.022015,
     "end_time": "2023-11-28T05:48:15.156029",
     "exception": false,
     "start_time": "2023-11-28T05:48:15.134014",
     "status": "completed"
    },
    "tags": []
   },
   "source": [
    "### 박스-콕스\n",
    "![박스-콕스](https://wikimedia.org/api/rest_v1/media/math/render/svg/b565ae8f1cce1e4035e2a36213b8c9ce34b5029d)\n",
    "\n",
    "### 여-존슨\n",
    "![여-존슨](https://wikimedia.org/api/rest_v1/media/math/render/svg/2a99e24c81226f3d0547c471281197ea265553c5)"
   ]
  },
  {
   "cell_type": "code",
   "execution_count": 1,
   "id": "7d364909",
   "metadata": {
    "execution": {
     "iopub.execute_input": "2023-11-28T05:48:15.213898Z",
     "iopub.status.busy": "2023-11-28T05:48:15.212854Z",
     "iopub.status.idle": "2023-11-28T05:48:15.254476Z",
     "shell.execute_reply": "2023-11-28T05:48:15.255123Z",
     "shell.execute_reply.started": "2023-11-28T05:25:05.833375Z"
    },
    "papermill": {
     "duration": 0.078696,
     "end_time": "2023-11-28T05:48:15.255519",
     "exception": false,
     "start_time": "2023-11-28T05:48:15.176823",
     "status": "completed"
    },
    "tags": []
   },
   "outputs": [
    {
     "data": {
      "text/html": [
       "<div>\n",
       "<style scoped>\n",
       "    .dataframe tbody tr th:only-of-type {\n",
       "        vertical-align: middle;\n",
       "    }\n",
       "\n",
       "    .dataframe tbody tr th {\n",
       "        vertical-align: top;\n",
       "    }\n",
       "\n",
       "    .dataframe thead th {\n",
       "        text-align: right;\n",
       "    }\n",
       "</style>\n",
       "<table border=\"1\" class=\"dataframe\">\n",
       "  <thead>\n",
       "    <tr style=\"text-align: right;\">\n",
       "      <th></th>\n",
       "      <th>id</th>\n",
       "      <th>age</th>\n",
       "      <th>city</th>\n",
       "      <th>f1</th>\n",
       "      <th>f2</th>\n",
       "      <th>f3</th>\n",
       "      <th>f4</th>\n",
       "      <th>f5</th>\n",
       "    </tr>\n",
       "  </thead>\n",
       "  <tbody>\n",
       "    <tr>\n",
       "      <th>0</th>\n",
       "      <td>id01</td>\n",
       "      <td>2.0</td>\n",
       "      <td>서울</td>\n",
       "      <td>NaN</td>\n",
       "      <td>0</td>\n",
       "      <td>NaN</td>\n",
       "      <td>ENFJ</td>\n",
       "      <td>91.297791</td>\n",
       "    </tr>\n",
       "    <tr>\n",
       "      <th>1</th>\n",
       "      <td>id02</td>\n",
       "      <td>9.0</td>\n",
       "      <td>서울</td>\n",
       "      <td>70.0</td>\n",
       "      <td>1</td>\n",
       "      <td>NaN</td>\n",
       "      <td>ENFJ</td>\n",
       "      <td>60.339826</td>\n",
       "    </tr>\n",
       "    <tr>\n",
       "      <th>2</th>\n",
       "      <td>id03</td>\n",
       "      <td>27.0</td>\n",
       "      <td>서울</td>\n",
       "      <td>61.0</td>\n",
       "      <td>1</td>\n",
       "      <td>NaN</td>\n",
       "      <td>ISTJ</td>\n",
       "      <td>17.252986</td>\n",
       "    </tr>\n",
       "    <tr>\n",
       "      <th>3</th>\n",
       "      <td>id04</td>\n",
       "      <td>75.0</td>\n",
       "      <td>서울</td>\n",
       "      <td>NaN</td>\n",
       "      <td>2</td>\n",
       "      <td>NaN</td>\n",
       "      <td>INFP</td>\n",
       "      <td>52.667078</td>\n",
       "    </tr>\n",
       "    <tr>\n",
       "      <th>4</th>\n",
       "      <td>id05</td>\n",
       "      <td>24.0</td>\n",
       "      <td>서울</td>\n",
       "      <td>85.0</td>\n",
       "      <td>2</td>\n",
       "      <td>NaN</td>\n",
       "      <td>ISFJ</td>\n",
       "      <td>29.269869</td>\n",
       "    </tr>\n",
       "  </tbody>\n",
       "</table>\n",
       "</div>"
      ],
      "text/plain": [
       "     id   age city    f1  f2   f3    f4         f5\n",
       "0  id01   2.0   서울   NaN   0  NaN  ENFJ  91.297791\n",
       "1  id02   9.0   서울  70.0   1  NaN  ENFJ  60.339826\n",
       "2  id03  27.0   서울  61.0   1  NaN  ISTJ  17.252986\n",
       "3  id04  75.0   서울   NaN   2  NaN  INFP  52.667078\n",
       "4  id05  24.0   서울  85.0   2  NaN  ISFJ  29.269869"
      ]
     },
     "execution_count": 1,
     "metadata": {},
     "output_type": "execute_result"
    }
   ],
   "source": [
    "# 라이브러리 및 데이터 불러오기\n",
    "import pandas as pd\n",
    "import numpy as np\n",
    "df = pd.read_csv('/kaggle/input/bigdatacertificationkr/basic1.csv')\n",
    "df.head()"
   ]
  },
  {
   "cell_type": "code",
   "execution_count": 2,
   "id": "f064115c",
   "metadata": {
    "execution": {
     "iopub.execute_input": "2023-11-28T05:48:15.307352Z",
     "iopub.status.busy": "2023-11-28T05:48:15.306536Z",
     "iopub.status.idle": "2023-11-28T05:48:15.325578Z",
     "shell.execute_reply": "2023-11-28T05:48:15.324810Z",
     "shell.execute_reply.started": "2023-11-28T05:25:34.453642Z"
    },
    "papermill": {
     "duration": 0.048578,
     "end_time": "2023-11-28T05:48:15.325748",
     "exception": false,
     "start_time": "2023-11-28T05:48:15.277170",
     "status": "completed"
    },
    "tags": []
   },
   "outputs": [
    {
     "data": {
      "text/html": [
       "<div>\n",
       "<style scoped>\n",
       "    .dataframe tbody tr th:only-of-type {\n",
       "        vertical-align: middle;\n",
       "    }\n",
       "\n",
       "    .dataframe tbody tr th {\n",
       "        vertical-align: top;\n",
       "    }\n",
       "\n",
       "    .dataframe thead th {\n",
       "        text-align: right;\n",
       "    }\n",
       "</style>\n",
       "<table border=\"1\" class=\"dataframe\">\n",
       "  <thead>\n",
       "    <tr style=\"text-align: right;\">\n",
       "      <th></th>\n",
       "      <th>id</th>\n",
       "      <th>age</th>\n",
       "      <th>city</th>\n",
       "      <th>f1</th>\n",
       "      <th>f2</th>\n",
       "      <th>f3</th>\n",
       "      <th>f4</th>\n",
       "      <th>f5</th>\n",
       "    </tr>\n",
       "  </thead>\n",
       "  <tbody>\n",
       "    <tr>\n",
       "      <th>2</th>\n",
       "      <td>id03</td>\n",
       "      <td>27.0</td>\n",
       "      <td>서울</td>\n",
       "      <td>61.0</td>\n",
       "      <td>1</td>\n",
       "      <td>NaN</td>\n",
       "      <td>ISTJ</td>\n",
       "      <td>17.252986</td>\n",
       "    </tr>\n",
       "    <tr>\n",
       "      <th>3</th>\n",
       "      <td>id04</td>\n",
       "      <td>75.0</td>\n",
       "      <td>서울</td>\n",
       "      <td>NaN</td>\n",
       "      <td>2</td>\n",
       "      <td>NaN</td>\n",
       "      <td>INFP</td>\n",
       "      <td>52.667078</td>\n",
       "    </tr>\n",
       "    <tr>\n",
       "      <th>4</th>\n",
       "      <td>id05</td>\n",
       "      <td>24.0</td>\n",
       "      <td>서울</td>\n",
       "      <td>85.0</td>\n",
       "      <td>2</td>\n",
       "      <td>NaN</td>\n",
       "      <td>ISFJ</td>\n",
       "      <td>29.269869</td>\n",
       "    </tr>\n",
       "    <tr>\n",
       "      <th>5</th>\n",
       "      <td>id06</td>\n",
       "      <td>22.0</td>\n",
       "      <td>서울</td>\n",
       "      <td>57.0</td>\n",
       "      <td>0</td>\n",
       "      <td>vip</td>\n",
       "      <td>INTP</td>\n",
       "      <td>20.129444</td>\n",
       "    </tr>\n",
       "    <tr>\n",
       "      <th>6</th>\n",
       "      <td>id07</td>\n",
       "      <td>36.3</td>\n",
       "      <td>서울</td>\n",
       "      <td>60.0</td>\n",
       "      <td>1</td>\n",
       "      <td>NaN</td>\n",
       "      <td>ISFJ</td>\n",
       "      <td>9.796378</td>\n",
       "    </tr>\n",
       "  </tbody>\n",
       "</table>\n",
       "</div>"
      ],
      "text/plain": [
       "     id   age city    f1  f2   f3    f4         f5\n",
       "2  id03  27.0   서울  61.0   1  NaN  ISTJ  17.252986\n",
       "3  id04  75.0   서울   NaN   2  NaN  INFP  52.667078\n",
       "4  id05  24.0   서울  85.0   2  NaN  ISFJ  29.269869\n",
       "5  id06  22.0   서울  57.0   0  vip  INTP  20.129444\n",
       "6  id07  36.3   서울  60.0   1  NaN  ISFJ   9.796378"
      ]
     },
     "execution_count": 2,
     "metadata": {},
     "output_type": "execute_result"
    }
   ],
   "source": [
    "# 조건에 맞는 데이터\n",
    "df = df[df['age']>=20]\n",
    "df.head()"
   ]
  },
  {
   "cell_type": "code",
   "execution_count": 3,
   "id": "4e3c39f2",
   "metadata": {
    "execution": {
     "iopub.execute_input": "2023-11-28T05:48:15.382396Z",
     "iopub.status.busy": "2023-11-28T05:48:15.381219Z",
     "iopub.status.idle": "2023-11-28T05:48:15.385874Z",
     "shell.execute_reply": "2023-11-28T05:48:15.385074Z",
     "shell.execute_reply.started": "2023-11-28T05:35:08.890263Z"
    },
    "papermill": {
     "duration": 0.038929,
     "end_time": "2023-11-28T05:48:15.386041",
     "exception": false,
     "start_time": "2023-11-28T05:48:15.347112",
     "status": "completed"
    },
    "tags": []
   },
   "outputs": [
    {
     "data": {
      "text/plain": [
       "0"
      ]
     },
     "execution_count": 3,
     "metadata": {},
     "output_type": "execute_result"
    }
   ],
   "source": [
    "# 최빈값으로 'f1' 컬럼 결측치 대체\n",
    "\n",
    "df['f1'] = df['f1'].fillna(df['f1'].mode()[0])\n",
    "df['f1'].isnull().sum()"
   ]
  },
  {
   "cell_type": "code",
   "execution_count": 4,
   "id": "65d67a10",
   "metadata": {
    "execution": {
     "iopub.execute_input": "2023-11-28T05:48:15.435483Z",
     "iopub.status.busy": "2023-11-28T05:48:15.434633Z",
     "iopub.status.idle": "2023-11-28T05:48:16.336331Z",
     "shell.execute_reply": "2023-11-28T05:48:16.335628Z",
     "shell.execute_reply.started": "2023-11-28T05:45:42.467634Z"
    },
    "papermill": {
     "duration": 0.928926,
     "end_time": "2023-11-28T05:48:16.336521",
     "exception": false,
     "start_time": "2023-11-28T05:48:15.407595",
     "status": "completed"
    },
    "tags": []
   },
   "outputs": [],
   "source": [
    "# 'f1'데이터 여-존슨 yeo-johnson 값 구하기\n",
    "from sklearn.preprocessing import power_transform\n",
    "df['y'] = power_transform(df[['f1']])"
   ]
  },
  {
   "cell_type": "code",
   "execution_count": 5,
   "id": "505c8b4d",
   "metadata": {
    "execution": {
     "iopub.execute_input": "2023-11-28T05:48:16.386421Z",
     "iopub.status.busy": "2023-11-28T05:48:16.385627Z",
     "iopub.status.idle": "2023-11-28T05:48:16.394432Z",
     "shell.execute_reply": "2023-11-28T05:48:16.394991Z",
     "shell.execute_reply.started": "2023-11-28T05:45:51.025525Z"
    },
    "papermill": {
     "duration": 0.035513,
     "end_time": "2023-11-28T05:48:16.395227",
     "exception": false,
     "start_time": "2023-11-28T05:48:16.359714",
     "status": "completed"
    },
    "tags": []
   },
   "outputs": [],
   "source": [
    "# 'f1'데이터 박스-콕스 box-cox 값 구하기\n",
    "df['b'] = power_transform(df[['f1']], method='box-cox')"
   ]
  },
  {
   "cell_type": "code",
   "execution_count": 6,
   "id": "4e37127d",
   "metadata": {
    "execution": {
     "iopub.execute_input": "2023-11-28T05:48:16.442331Z",
     "iopub.status.busy": "2023-11-28T05:48:16.441579Z",
     "iopub.status.idle": "2023-11-28T05:48:16.449130Z",
     "shell.execute_reply": "2023-11-28T05:48:16.448517Z",
     "shell.execute_reply.started": "2023-11-28T05:46:46.899342Z"
    },
    "papermill": {
     "duration": 0.032587,
     "end_time": "2023-11-28T05:48:16.449294",
     "exception": false,
     "start_time": "2023-11-28T05:48:16.416707",
     "status": "completed"
    },
    "tags": []
   },
   "outputs": [
    {
     "data": {
      "text/plain": [
       "0.05"
      ]
     },
     "execution_count": 6,
     "metadata": {},
     "output_type": "execute_result"
    }
   ],
   "source": [
    "# 두 값의 차이를 절대값으로 구한다음 모두 더해 소수점 둘째 자리까지 출력(반올림)\n",
    "round(sum(abs(df['y']-df['b'])),2)"
   ]
  },
  {
   "cell_type": "markdown",
   "id": "8eed096c",
   "metadata": {
    "papermill": {
     "duration": 0.021637,
     "end_time": "2023-11-28T05:48:16.493007",
     "exception": false,
     "start_time": "2023-11-28T05:48:16.471370",
     "status": "completed"
    },
    "tags": []
   },
   "source": [
    "## Hint\n",
    "- https://scikit-learn.org/stable/modules/generated/sklearn.preprocessing.power_transform.html"
   ]
  },
  {
   "cell_type": "code",
   "execution_count": 7,
   "id": "a97adc5e",
   "metadata": {
    "execution": {
     "iopub.execute_input": "2023-11-28T05:48:16.540505Z",
     "iopub.status.busy": "2023-11-28T05:48:16.539757Z",
     "iopub.status.idle": "2023-11-28T05:48:16.556104Z",
     "shell.execute_reply": "2023-11-28T05:48:16.556723Z",
     "shell.execute_reply.started": "2021-10-21T00:17:29.742291Z"
    },
    "papermill": {
     "duration": 0.042086,
     "end_time": "2023-11-28T05:48:16.556972",
     "exception": false,
     "start_time": "2023-11-28T05:48:16.514886",
     "status": "completed"
    },
    "tags": []
   },
   "outputs": [
    {
     "name": "stdout",
     "output_type": "stream",
     "text": [
      "[[-1.27332767 -1.24414502]\n",
      " [ 0.10376846  0.03976901]\n",
      " [ 1.16955921  1.20437601]]\n",
      "[[-1.27548765 -1.24611441]\n",
      " [ 0.1087368   0.04392064]\n",
      " [ 1.16675085  1.20219377]]\n"
     ]
    }
   ],
   "source": [
    "from sklearn.preprocessing import power_transform\n",
    "data = [[11, 12], [23, 22], [34, 35]]\n",
    "print(power_transform(data)) # method 디폴트 값은 여-존슨’yeo-johnson’\n",
    "print(power_transform(data, method='box-cox'))"
   ]
  },
  {
   "cell_type": "markdown",
   "id": "62131de7",
   "metadata": {
    "papermill": {
     "duration": 0.021914,
     "end_time": "2023-11-28T05:48:16.601831",
     "exception": false,
     "start_time": "2023-11-28T05:48:16.579917",
     "status": "completed"
    },
    "tags": []
   },
   "source": [
    "## 풀이"
   ]
  },
  {
   "cell_type": "code",
   "execution_count": 8,
   "id": "bb952e50",
   "metadata": {
    "_cell_guid": "b1076dfc-b9ad-4769-8c92-a6c4dae69d19",
    "_uuid": "8f2839f25d086af736a60e9eeb907d3b93b6e0e5",
    "execution": {
     "iopub.execute_input": "2023-11-28T05:48:16.654196Z",
     "iopub.status.busy": "2023-11-28T05:48:16.653161Z",
     "iopub.status.idle": "2023-11-28T05:48:16.676655Z",
     "shell.execute_reply": "2023-11-28T05:48:16.675861Z",
     "shell.execute_reply.started": "2023-11-28T05:47:26.560583Z"
    },
    "papermill": {
     "duration": 0.050202,
     "end_time": "2023-11-28T05:48:16.676830",
     "exception": false,
     "start_time": "2023-11-28T05:48:16.626628",
     "status": "completed"
    },
    "tags": []
   },
   "outputs": [
    {
     "data": {
      "text/html": [
       "<div>\n",
       "<style scoped>\n",
       "    .dataframe tbody tr th:only-of-type {\n",
       "        vertical-align: middle;\n",
       "    }\n",
       "\n",
       "    .dataframe tbody tr th {\n",
       "        vertical-align: top;\n",
       "    }\n",
       "\n",
       "    .dataframe thead th {\n",
       "        text-align: right;\n",
       "    }\n",
       "</style>\n",
       "<table border=\"1\" class=\"dataframe\">\n",
       "  <thead>\n",
       "    <tr style=\"text-align: right;\">\n",
       "      <th></th>\n",
       "      <th>id</th>\n",
       "      <th>age</th>\n",
       "      <th>city</th>\n",
       "      <th>f1</th>\n",
       "      <th>f2</th>\n",
       "      <th>f3</th>\n",
       "      <th>f4</th>\n",
       "      <th>f5</th>\n",
       "    </tr>\n",
       "  </thead>\n",
       "  <tbody>\n",
       "    <tr>\n",
       "      <th>0</th>\n",
       "      <td>id01</td>\n",
       "      <td>2.0</td>\n",
       "      <td>서울</td>\n",
       "      <td>NaN</td>\n",
       "      <td>0</td>\n",
       "      <td>NaN</td>\n",
       "      <td>ENFJ</td>\n",
       "      <td>91.297791</td>\n",
       "    </tr>\n",
       "    <tr>\n",
       "      <th>1</th>\n",
       "      <td>id02</td>\n",
       "      <td>9.0</td>\n",
       "      <td>서울</td>\n",
       "      <td>70.0</td>\n",
       "      <td>1</td>\n",
       "      <td>NaN</td>\n",
       "      <td>ENFJ</td>\n",
       "      <td>60.339826</td>\n",
       "    </tr>\n",
       "    <tr>\n",
       "      <th>2</th>\n",
       "      <td>id03</td>\n",
       "      <td>27.0</td>\n",
       "      <td>서울</td>\n",
       "      <td>61.0</td>\n",
       "      <td>1</td>\n",
       "      <td>NaN</td>\n",
       "      <td>ISTJ</td>\n",
       "      <td>17.252986</td>\n",
       "    </tr>\n",
       "    <tr>\n",
       "      <th>3</th>\n",
       "      <td>id04</td>\n",
       "      <td>75.0</td>\n",
       "      <td>서울</td>\n",
       "      <td>NaN</td>\n",
       "      <td>2</td>\n",
       "      <td>NaN</td>\n",
       "      <td>INFP</td>\n",
       "      <td>52.667078</td>\n",
       "    </tr>\n",
       "    <tr>\n",
       "      <th>4</th>\n",
       "      <td>id05</td>\n",
       "      <td>24.0</td>\n",
       "      <td>서울</td>\n",
       "      <td>85.0</td>\n",
       "      <td>2</td>\n",
       "      <td>NaN</td>\n",
       "      <td>ISFJ</td>\n",
       "      <td>29.269869</td>\n",
       "    </tr>\n",
       "  </tbody>\n",
       "</table>\n",
       "</div>"
      ],
      "text/plain": [
       "     id   age city    f1  f2   f3    f4         f5\n",
       "0  id01   2.0   서울   NaN   0  NaN  ENFJ  91.297791\n",
       "1  id02   9.0   서울  70.0   1  NaN  ENFJ  60.339826\n",
       "2  id03  27.0   서울  61.0   1  NaN  ISTJ  17.252986\n",
       "3  id04  75.0   서울   NaN   2  NaN  INFP  52.667078\n",
       "4  id05  24.0   서울  85.0   2  NaN  ISFJ  29.269869"
      ]
     },
     "execution_count": 8,
     "metadata": {},
     "output_type": "execute_result"
    }
   ],
   "source": [
    "# 라이브러리 및 데이터 불러오기\n",
    "import pandas as pd\n",
    "import numpy as np\n",
    "from sklearn.preprocessing import power_transform\n",
    "\n",
    "df = pd.read_csv('../input/bigdatacertificationkr/basic1.csv')\n",
    "df.head(5)"
   ]
  },
  {
   "cell_type": "code",
   "execution_count": 9,
   "id": "4c67b0d3",
   "metadata": {
    "execution": {
     "iopub.execute_input": "2023-11-28T05:48:16.728711Z",
     "iopub.status.busy": "2023-11-28T05:48:16.727853Z",
     "iopub.status.idle": "2023-11-28T05:48:16.737194Z",
     "shell.execute_reply": "2023-11-28T05:48:16.737949Z",
     "shell.execute_reply.started": "2023-11-28T05:47:28.400386Z"
    },
    "papermill": {
     "duration": 0.037524,
     "end_time": "2023-11-28T05:48:16.738175",
     "exception": false,
     "start_time": "2023-11-28T05:48:16.700651",
     "status": "completed"
    },
    "tags": []
   },
   "outputs": [
    {
     "name": "stdout",
     "output_type": "stream",
     "text": [
      "조건 적용 전: (100, 8)\n",
      "조건 적용 후: (83, 8)\n"
     ]
    }
   ],
   "source": [
    "# 조건에 맞는 데이터\n",
    "print(\"조건 적용 전:\", df.shape)\n",
    "df = df[df['age']>=20]\n",
    "print(\"조건 적용 후:\", df.shape)"
   ]
  },
  {
   "cell_type": "code",
   "execution_count": 10,
   "id": "c40ff6d3",
   "metadata": {
    "execution": {
     "iopub.execute_input": "2023-11-28T05:48:16.791087Z",
     "iopub.status.busy": "2023-11-28T05:48:16.789969Z",
     "iopub.status.idle": "2023-11-28T05:48:16.804488Z",
     "shell.execute_reply": "2023-11-28T05:48:16.805176Z",
     "shell.execute_reply.started": "2023-11-28T05:47:29.997327Z"
    },
    "papermill": {
     "duration": 0.043379,
     "end_time": "2023-11-28T05:48:16.805418",
     "exception": false,
     "start_time": "2023-11-28T05:48:16.762039",
     "status": "completed"
    },
    "tags": []
   },
   "outputs": [
    {
     "name": "stdout",
     "output_type": "stream",
     "text": [
      "결측치 처리 전: \n",
      " id       0\n",
      "age      0\n",
      "city     0\n",
      "f1      26\n",
      "f2       0\n",
      "f3      78\n",
      "f4       0\n",
      "f5       0\n",
      "dtype: int64\n",
      "최빈값:  50.0\n",
      "결측치 처리 후: \n",
      " id       0\n",
      "age      0\n",
      "city     0\n",
      "f1       0\n",
      "f2       0\n",
      "f3      78\n",
      "f4       0\n",
      "f5       0\n",
      "dtype: int64\n"
     ]
    }
   ],
   "source": [
    "# 최빈값으로 'f1' 컬럼 결측치 대체\n",
    "print(\"결측치 처리 전: \\n\", df.isnull().sum())\n",
    "print(\"최빈값: \",df['f1'].mode()[0])\n",
    "df['f1'] = df['f1'].fillna(df['f1'].mode()[0])\n",
    "print(\"결측치 처리 후: \\n\", df.isnull().sum())   "
   ]
  },
  {
   "cell_type": "code",
   "execution_count": 11,
   "id": "8845498a",
   "metadata": {
    "execution": {
     "iopub.execute_input": "2023-11-28T05:48:16.869811Z",
     "iopub.status.busy": "2023-11-28T05:48:16.865692Z",
     "iopub.status.idle": "2023-11-28T05:48:16.874210Z",
     "shell.execute_reply": "2023-11-28T05:48:16.873665Z",
     "shell.execute_reply.started": "2023-11-28T05:47:32.760483Z"
    },
    "papermill": {
     "duration": 0.044727,
     "end_time": "2023-11-28T05:48:16.874374",
     "exception": false,
     "start_time": "2023-11-28T05:48:16.829647",
     "status": "completed"
    },
    "tags": []
   },
   "outputs": [
    {
     "data": {
      "text/plain": [
       "2    0.101083\n",
       "3   -0.585402\n",
       "4    1.463459\n",
       "5   -0.143094\n",
       "6    0.040578\n",
       "Name: y, dtype: float64"
      ]
     },
     "execution_count": 11,
     "metadata": {},
     "output_type": "execute_result"
    }
   ],
   "source": [
    "# 'f1'데이터 여-존슨 yeo-johnson 값 구하기\n",
    "df['y'] = power_transform(df[['f1']]) # method 디폴트 값은 여-존슨’yeo-johnson’\n",
    "df['y'].head()"
   ]
  },
  {
   "cell_type": "code",
   "execution_count": 12,
   "id": "5c3b0e2a",
   "metadata": {
    "execution": {
     "iopub.execute_input": "2023-11-28T05:48:16.927321Z",
     "iopub.status.busy": "2023-11-28T05:48:16.926571Z",
     "iopub.status.idle": "2023-11-28T05:48:16.941786Z",
     "shell.execute_reply": "2023-11-28T05:48:16.941112Z",
     "shell.execute_reply.started": "2023-11-28T05:46:59.622593Z"
    },
    "papermill": {
     "duration": 0.042944,
     "end_time": "2023-11-28T05:48:16.941965",
     "exception": false,
     "start_time": "2023-11-28T05:48:16.899021",
     "status": "completed"
    },
    "tags": []
   },
   "outputs": [
    {
     "data": {
      "text/plain": [
       "2    20.583423\n",
       "3    17.968081\n",
       "4    25.773745\n",
       "5    19.653167\n",
       "6    20.352915\n",
       "Name: y, dtype: float64"
      ]
     },
     "execution_count": 12,
     "metadata": {},
     "output_type": "execute_result"
    }
   ],
   "source": [
    "# 'f1'데이터 여-존슨 yeo-johnson 값 구하기\n",
    "df['y'] = power_transform(df[['f1']],standardize=False) # method 디폴트 값은 여-존슨’yeo-johnson’\n",
    "df['y'].head()"
   ]
  },
  {
   "cell_type": "code",
   "execution_count": 13,
   "id": "c12b91b8",
   "metadata": {
    "execution": {
     "iopub.execute_input": "2023-11-28T05:48:17.004683Z",
     "iopub.status.busy": "2023-11-28T05:48:17.003743Z",
     "iopub.status.idle": "2023-11-28T05:48:17.009988Z",
     "shell.execute_reply": "2023-11-28T05:48:17.010631Z",
     "shell.execute_reply.started": "2023-11-28T05:47:35.812594Z"
    },
    "papermill": {
     "duration": 0.043604,
     "end_time": "2023-11-28T05:48:17.010831",
     "exception": false,
     "start_time": "2023-11-28T05:48:16.967227",
     "status": "completed"
    },
    "tags": []
   },
   "outputs": [
    {
     "data": {
      "text/plain": [
       "2    0.100290\n",
       "3   -0.585656\n",
       "4    1.463969\n",
       "5   -0.143784\n",
       "6    0.039801\n",
       "Name: b, dtype: float64"
      ]
     },
     "execution_count": 13,
     "metadata": {},
     "output_type": "execute_result"
    }
   ],
   "source": [
    "# 'f1'데이터 박스-콕스 box-cox 값 구하기\n",
    "df['b'] = power_transform(df[['f1']], method='box-cox')\n",
    "df['b'].head()"
   ]
  },
  {
   "cell_type": "code",
   "execution_count": 14,
   "id": "f3d37eaf",
   "metadata": {
    "execution": {
     "iopub.execute_input": "2023-11-28T05:48:17.064581Z",
     "iopub.status.busy": "2023-11-28T05:48:17.063837Z",
     "iopub.status.idle": "2023-11-28T05:48:17.079066Z",
     "shell.execute_reply": "2023-11-28T05:48:17.078279Z",
     "shell.execute_reply.started": "2023-11-28T05:47:03.319493Z"
    },
    "papermill": {
     "duration": 0.043325,
     "end_time": "2023-11-28T05:48:17.079226",
     "exception": false,
     "start_time": "2023-11-28T05:48:17.035901",
     "status": "completed"
    },
    "tags": []
   },
   "outputs": [
    {
     "data": {
      "text/plain": [
       "2    21.067090\n",
       "3    18.305263\n",
       "4    26.557680\n",
       "5    20.084373\n",
       "6    20.823545\n",
       "Name: b, dtype: float64"
      ]
     },
     "execution_count": 14,
     "metadata": {},
     "output_type": "execute_result"
    }
   ],
   "source": [
    "# 'f1'데이터 박스-콕스 box-cox 값 구하기\n",
    "# 추가 2022.6.21 \n",
    "# standardize=False는 python과 R의 디폴트가 달라 결과를 맞추기 위함이었어요! 이번 문제는 출제 가능성이 낮아 보여요 (이미 풀이한 분들이 있어 그대로 두었습니다.)\n",
    "df['b'] = power_transform(df[['f1']], method='box-cox', standardize=False)\n",
    "df['b'].head()"
   ]
  },
  {
   "cell_type": "code",
   "execution_count": 15,
   "id": "a960e121",
   "metadata": {
    "execution": {
     "iopub.execute_input": "2023-11-28T05:48:17.142661Z",
     "iopub.status.busy": "2023-11-28T05:48:17.141653Z",
     "iopub.status.idle": "2023-11-28T05:48:17.144828Z",
     "shell.execute_reply": "2023-11-28T05:48:17.145531Z",
     "shell.execute_reply.started": "2021-11-08T04:15:04.974866Z"
    },
    "papermill": {
     "duration": 0.039805,
     "end_time": "2023-11-28T05:48:17.145738",
     "exception": false,
     "start_time": "2023-11-28T05:48:17.105933",
     "status": "completed"
    },
    "tags": []
   },
   "outputs": [
    {
     "data": {
      "text/plain": [
       "(array([21.06708953, 18.3052633 , 26.5576802 , 20.08437298, 20.82354507,\n",
       "        29.92014513, 24.11822132, 22.73510562, 18.3052633 , 18.3052633 ,\n",
       "        22.50057055, 26.5576802 , 18.3052633 , 26.9892231 , 18.3052633 ,\n",
       "        18.3052633 , 24.34492271, 16.71079147, 18.3052633 , 20.08437298,\n",
       "        20.82354507, 13.87430348, 24.79522889, 21.78961583, 28.47348918,\n",
       "        18.3052633 , 18.3052633 , 24.79522889, 18.3052633 , 18.3052633 ,\n",
       "        18.3052633 , 24.34492271, 19.58413896, 17.78149164, 20.82354507,\n",
       "        18.3052633 , 27.20371216, 18.3052633 , 24.34492271, 27.20371216,\n",
       "        25.01886978, 18.3052633 , 25.90374843, 18.3052633 , 18.3052633 ,\n",
       "        21.55009581, 18.3052633 , 18.3052633 , 18.3052633 , 21.30926323,\n",
       "        18.3052633 , 26.77388356, 21.30926323, 18.3052633 , 18.3052633 ,\n",
       "        18.82186921, 16.9815023 , 26.5576802 , 26.34059934, 18.3052633 ,\n",
       "        29.30451924, 17.51679379,  6.25392521, 12.96923726, 28.89049447,\n",
       "        18.3052633 , 20.82354507, 18.3052633 , 18.3052633 , 18.3052633 ,\n",
       "        16.71079147, 19.58413896, 24.34492271, 22.26482716, 18.3052633 ,\n",
       "        25.01886978, 20.08437298, 18.3052633 , 16.43795391, 19.07760136,\n",
       "        18.3052633 , 20.33221948, 19.07760136]),\n",
       " 0.6557192658257479)"
      ]
     },
     "execution_count": 15,
     "metadata": {},
     "output_type": "execute_result"
    }
   ],
   "source": [
    "## 박스콕스 방법2\n",
    "from scipy import stats\n",
    "x = stats.boxcox(df['f1'])\n",
    "x"
   ]
  },
  {
   "cell_type": "code",
   "execution_count": 16,
   "id": "3d2d7e39",
   "metadata": {
    "execution": {
     "iopub.execute_input": "2023-11-28T05:48:17.205907Z",
     "iopub.status.busy": "2023-11-28T05:48:17.205047Z",
     "iopub.status.idle": "2023-11-28T05:48:17.209639Z",
     "shell.execute_reply": "2023-11-28T05:48:17.209026Z",
     "shell.execute_reply.started": "2023-11-28T05:47:38.470624Z"
    },
    "papermill": {
     "duration": 0.037504,
     "end_time": "2023-11-28T05:48:17.209842",
     "exception": false,
     "start_time": "2023-11-28T05:48:17.172338",
     "status": "completed"
    },
    "tags": []
   },
   "outputs": [
    {
     "data": {
      "text/plain": [
       "39.17"
      ]
     },
     "execution_count": 16,
     "metadata": {},
     "output_type": "execute_result"
    }
   ],
   "source": [
    "# 두 값의 차이를 절대값으로 구한다음 모두 더해 소수점 둘째 자리까지 출력(반올림)\n",
    "round(sum(np.abs(df['y'] - df['b'])),2)"
   ]
  }
 ],
 "metadata": {
  "kaggle": {
   "accelerator": "none",
   "dataSources": [
    {
     "datasetId": 1633303,
     "sourceId": 7061047,
     "sourceType": "datasetVersion"
    }
   ],
   "dockerImageVersionId": 30138,
   "isGpuEnabled": false,
   "isInternetEnabled": true,
   "language": "python",
   "sourceType": "notebook"
  },
  "kernelspec": {
   "display_name": "Python 3",
   "language": "python",
   "name": "python3"
  },
  "language_info": {
   "codemirror_mode": {
    "name": "ipython",
    "version": 3
   },
   "file_extension": ".py",
   "mimetype": "text/x-python",
   "name": "python",
   "nbconvert_exporter": "python",
   "pygments_lexer": "ipython3",
   "version": "3.7.10"
  },
  "papermill": {
   "default_parameters": {},
   "duration": 13.65236,
   "end_time": "2023-11-28T05:48:18.151886",
   "environment_variables": {},
   "exception": null,
   "input_path": "__notebook__.ipynb",
   "output_path": "__notebook__.ipynb",
   "parameters": {},
   "start_time": "2023-11-28T05:48:04.499526",
   "version": "2.3.3"
  }
 },
 "nbformat": 4,
 "nbformat_minor": 5
}
