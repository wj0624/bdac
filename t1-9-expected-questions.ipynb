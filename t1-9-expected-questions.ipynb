{
 "cells": [
  {
   "cell_type": "markdown",
   "id": "276540d6",
   "metadata": {
    "papermill": {
     "duration": 0.013241,
     "end_time": "2023-11-28T05:19:21.190154",
     "exception": false,
     "start_time": "2023-11-28T05:19:21.176913",
     "status": "completed"
    },
    "tags": []
   },
   "source": [
    "# 수치형 변수 변환하기\n",
    "\n",
    "\n",
    "### 주어진 데이터에서 'f5'컬럼을 표준화(Standardization (Z-score Normalization))하고 그 중앙값을 구하시오\n",
    "- 데이터셋 : basic1.csv\n",
    "- 오른쪽 상단 copy&edit 클릭 -> 예상문제 풀이 시작\n"
   ]
  },
  {
   "cell_type": "markdown",
   "id": "f840de09",
   "metadata": {
    "papermill": {
     "duration": 0.011789,
     "end_time": "2023-11-28T05:19:21.213955",
     "exception": false,
     "start_time": "2023-11-28T05:19:21.202166",
     "status": "completed"
    },
    "tags": []
   },
   "source": [
    "## Standardization (Z-score Normalization)\n",
    "\n",
    "![standard](https://wikimedia.org/api/rest_v1/media/math/render/svg/b0aa2e7d203db1526c577192f2d9102b718eafd5)"
   ]
  },
  {
   "cell_type": "code",
   "execution_count": 1,
   "id": "37d5271c",
   "metadata": {
    "execution": {
     "iopub.execute_input": "2023-11-28T05:19:21.245498Z",
     "iopub.status.busy": "2023-11-28T05:19:21.243462Z",
     "iopub.status.idle": "2023-11-28T05:19:21.291420Z",
     "shell.execute_reply": "2023-11-28T05:19:21.290508Z",
     "shell.execute_reply.started": "2023-11-28T05:18:38.333726Z"
    },
    "papermill": {
     "duration": 0.065389,
     "end_time": "2023-11-28T05:19:21.291630",
     "exception": false,
     "start_time": "2023-11-28T05:19:21.226241",
     "status": "completed"
    },
    "tags": []
   },
   "outputs": [
    {
     "data": {
      "text/plain": [
       "0     91.297791\n",
       "1     60.339826\n",
       "2     17.252986\n",
       "3     52.667078\n",
       "4     29.269869\n",
       "        ...    \n",
       "95    52.667078\n",
       "96    67.886373\n",
       "97    98.429899\n",
       "98    97.381034\n",
       "99    33.308999\n",
       "Name: f5, Length: 100, dtype: float64"
      ]
     },
     "execution_count": 1,
     "metadata": {},
     "output_type": "execute_result"
    }
   ],
   "source": [
    "# 라이브러리 및 데이터 불러오기\n",
    "import pandas as pd\n",
    "import numpy as np\n",
    "\n",
    "df = pd.read_csv('/kaggle/input/bigdatacertificationkr/basic1.csv')\n",
    "df['f5']"
   ]
  },
  {
   "cell_type": "code",
   "execution_count": 2,
   "id": "12f8b753",
   "metadata": {
    "execution": {
     "iopub.execute_input": "2023-11-28T05:19:21.327917Z",
     "iopub.status.busy": "2023-11-28T05:19:21.326926Z",
     "iopub.status.idle": "2023-11-28T05:19:22.408308Z",
     "shell.execute_reply": "2023-11-28T05:19:22.407495Z",
     "shell.execute_reply.started": "2023-11-28T05:18:40.020775Z"
    },
    "papermill": {
     "duration": 1.099769,
     "end_time": "2023-11-28T05:19:22.408492",
     "exception": false,
     "start_time": "2023-11-28T05:19:21.308723",
     "status": "completed"
    },
    "tags": []
   },
   "outputs": [
    {
     "data": {
      "text/plain": [
       "0     1.220815\n",
       "1     0.127343\n",
       "2    -1.394535\n",
       "3    -0.143667\n",
       "4    -0.970085\n",
       "        ...   \n",
       "95   -0.143667\n",
       "96    0.393896\n",
       "97    1.472730\n",
       "98    1.435683\n",
       "99   -0.827418\n",
       "Name: f5, Length: 100, dtype: float64"
      ]
     },
     "execution_count": 2,
     "metadata": {},
     "output_type": "execute_result"
    }
   ],
   "source": [
    "# 표준화\n",
    "from sklearn.preprocessing import StandardScaler\n",
    "\n",
    "scaler = StandardScaler()\n",
    "df['f5'] = scaler.fit_transform(df[['f5']])\n",
    "\n",
    "df['f5']"
   ]
  },
  {
   "cell_type": "code",
   "execution_count": 3,
   "id": "1f2f37aa",
   "metadata": {
    "execution": {
     "iopub.execute_input": "2023-11-28T05:19:22.441288Z",
     "iopub.status.busy": "2023-11-28T05:19:22.440425Z",
     "iopub.status.idle": "2023-11-28T05:19:22.444387Z",
     "shell.execute_reply": "2023-11-28T05:19:22.445080Z",
     "shell.execute_reply.started": "2023-11-28T05:18:42.919619Z"
    },
    "papermill": {
     "duration": 0.02462,
     "end_time": "2023-11-28T05:19:22.445319",
     "exception": false,
     "start_time": "2023-11-28T05:19:22.420699",
     "status": "completed"
    },
    "tags": []
   },
   "outputs": [
    {
     "name": "stdout",
     "output_type": "stream",
     "text": [
      "0.260619629559015\n"
     ]
    }
   ],
   "source": [
    "# 중앙값 출력\n",
    "print(df['f5'].median())"
   ]
  },
  {
   "cell_type": "markdown",
   "id": "d9aeee15",
   "metadata": {
    "papermill": {
     "duration": 0.012257,
     "end_time": "2023-11-28T05:19:22.471062",
     "exception": false,
     "start_time": "2023-11-28T05:19:22.458805",
     "status": "completed"
    },
    "tags": []
   },
   "source": [
    "## Hint\n",
    "- https://scikit-learn.org/stable/modules/generated/sklearn.preprocessing.StandardScaler.html\n",
    "- https://en.wikipedia.org/wiki/Feature_scaling"
   ]
  },
  {
   "cell_type": "code",
   "execution_count": 4,
   "id": "727a9bca",
   "metadata": {
    "execution": {
     "iopub.execute_input": "2023-11-28T05:19:22.504845Z",
     "iopub.status.busy": "2023-11-28T05:19:22.503941Z",
     "iopub.status.idle": "2023-11-28T05:19:22.510775Z",
     "shell.execute_reply": "2023-11-28T05:19:22.510002Z",
     "shell.execute_reply.started": "2023-11-28T05:07:01.646220Z"
    },
    "papermill": {
     "duration": 0.027328,
     "end_time": "2023-11-28T05:19:22.510971",
     "exception": false,
     "start_time": "2023-11-28T05:19:22.483643",
     "status": "completed"
    },
    "tags": []
   },
   "outputs": [
    {
     "name": "stdout",
     "output_type": "stream",
     "text": [
      "StandardScaler()\n",
      "[[-0.73299648 -0.99206078]\n",
      " [-0.69948807 -1.125655  ]\n",
      " [-0.64084835 -0.39830869]\n",
      " [ 0.18848481  0.26966241]\n",
      " [ 2.11521842  0.41810043]\n",
      " [-0.23037032  1.82826164]]\n"
     ]
    }
   ],
   "source": [
    "from sklearn.preprocessing import StandardScaler\n",
    "data = [[0, 2], [0.4, 0.2], [1.1, 10], [11, 19], [34, 21], [6, 40]]\n",
    "scaler = StandardScaler()\n",
    "print(scaler.fit(data))\n",
    "print(scaler.transform(data))"
   ]
  },
  {
   "cell_type": "markdown",
   "id": "b86bcdd3",
   "metadata": {
    "papermill": {
     "duration": 0.013495,
     "end_time": "2023-11-28T05:19:22.537775",
     "exception": false,
     "start_time": "2023-11-28T05:19:22.524280",
     "status": "completed"
    },
    "tags": []
   },
   "source": [
    "## 풀이"
   ]
  },
  {
   "cell_type": "code",
   "execution_count": 5,
   "id": "35ea508f",
   "metadata": {
    "_cell_guid": "b1076dfc-b9ad-4769-8c92-a6c4dae69d19",
    "_uuid": "8f2839f25d086af736a60e9eeb907d3b93b6e0e5",
    "execution": {
     "iopub.execute_input": "2023-11-28T05:19:22.571144Z",
     "iopub.status.busy": "2023-11-28T05:19:22.570196Z",
     "iopub.status.idle": "2023-11-28T05:19:22.594738Z",
     "shell.execute_reply": "2023-11-28T05:19:22.593887Z",
     "shell.execute_reply.started": "2023-11-28T05:18:22.550822Z"
    },
    "papermill": {
     "duration": 0.043666,
     "end_time": "2023-11-28T05:19:22.594961",
     "exception": false,
     "start_time": "2023-11-28T05:19:22.551295",
     "status": "completed"
    },
    "tags": []
   },
   "outputs": [
    {
     "data": {
      "text/html": [
       "<div>\n",
       "<style scoped>\n",
       "    .dataframe tbody tr th:only-of-type {\n",
       "        vertical-align: middle;\n",
       "    }\n",
       "\n",
       "    .dataframe tbody tr th {\n",
       "        vertical-align: top;\n",
       "    }\n",
       "\n",
       "    .dataframe thead th {\n",
       "        text-align: right;\n",
       "    }\n",
       "</style>\n",
       "<table border=\"1\" class=\"dataframe\">\n",
       "  <thead>\n",
       "    <tr style=\"text-align: right;\">\n",
       "      <th></th>\n",
       "      <th>id</th>\n",
       "      <th>age</th>\n",
       "      <th>city</th>\n",
       "      <th>f1</th>\n",
       "      <th>f2</th>\n",
       "      <th>f3</th>\n",
       "      <th>f4</th>\n",
       "      <th>f5</th>\n",
       "    </tr>\n",
       "  </thead>\n",
       "  <tbody>\n",
       "    <tr>\n",
       "      <th>0</th>\n",
       "      <td>id01</td>\n",
       "      <td>2.0</td>\n",
       "      <td>서울</td>\n",
       "      <td>NaN</td>\n",
       "      <td>0</td>\n",
       "      <td>NaN</td>\n",
       "      <td>ENFJ</td>\n",
       "      <td>91.297791</td>\n",
       "    </tr>\n",
       "    <tr>\n",
       "      <th>1</th>\n",
       "      <td>id02</td>\n",
       "      <td>9.0</td>\n",
       "      <td>서울</td>\n",
       "      <td>70.0</td>\n",
       "      <td>1</td>\n",
       "      <td>NaN</td>\n",
       "      <td>ENFJ</td>\n",
       "      <td>60.339826</td>\n",
       "    </tr>\n",
       "  </tbody>\n",
       "</table>\n",
       "</div>"
      ],
      "text/plain": [
       "     id  age city    f1  f2   f3    f4         f5\n",
       "0  id01  2.0   서울   NaN   0  NaN  ENFJ  91.297791\n",
       "1  id02  9.0   서울  70.0   1  NaN  ENFJ  60.339826"
      ]
     },
     "execution_count": 5,
     "metadata": {},
     "output_type": "execute_result"
    }
   ],
   "source": [
    "# 라이브러리 및 데이터 불러오기\n",
    "import pandas as pd\n",
    "import numpy as np\n",
    "\n",
    "df = pd.read_csv('../input/bigdatacertificationkr/basic1.csv')\n",
    "df.head(2)"
   ]
  },
  {
   "cell_type": "code",
   "execution_count": 6,
   "id": "95baa8b2",
   "metadata": {
    "execution": {
     "iopub.execute_input": "2023-11-28T05:19:22.648740Z",
     "iopub.status.busy": "2023-11-28T05:19:22.647453Z",
     "iopub.status.idle": "2023-11-28T05:19:22.653320Z",
     "shell.execute_reply": "2023-11-28T05:19:22.652518Z",
     "shell.execute_reply.started": "2023-11-28T05:18:27.809211Z"
    },
    "papermill": {
     "duration": 0.042553,
     "end_time": "2023-11-28T05:19:22.653484",
     "exception": false,
     "start_time": "2023-11-28T05:19:22.610931",
     "status": "completed"
    },
    "tags": []
   },
   "outputs": [
    {
     "data": {
      "text/html": [
       "<div>\n",
       "<style scoped>\n",
       "    .dataframe tbody tr th:only-of-type {\n",
       "        vertical-align: middle;\n",
       "    }\n",
       "\n",
       "    .dataframe tbody tr th {\n",
       "        vertical-align: top;\n",
       "    }\n",
       "\n",
       "    .dataframe thead th {\n",
       "        text-align: right;\n",
       "    }\n",
       "</style>\n",
       "<table border=\"1\" class=\"dataframe\">\n",
       "  <thead>\n",
       "    <tr style=\"text-align: right;\">\n",
       "      <th></th>\n",
       "      <th>id</th>\n",
       "      <th>age</th>\n",
       "      <th>city</th>\n",
       "      <th>f1</th>\n",
       "      <th>f2</th>\n",
       "      <th>f3</th>\n",
       "      <th>f4</th>\n",
       "      <th>f5</th>\n",
       "    </tr>\n",
       "  </thead>\n",
       "  <tbody>\n",
       "    <tr>\n",
       "      <th>0</th>\n",
       "      <td>id01</td>\n",
       "      <td>2.0</td>\n",
       "      <td>서울</td>\n",
       "      <td>NaN</td>\n",
       "      <td>0</td>\n",
       "      <td>NaN</td>\n",
       "      <td>ENFJ</td>\n",
       "      <td>1.220815</td>\n",
       "    </tr>\n",
       "    <tr>\n",
       "      <th>1</th>\n",
       "      <td>id02</td>\n",
       "      <td>9.0</td>\n",
       "      <td>서울</td>\n",
       "      <td>70.0</td>\n",
       "      <td>1</td>\n",
       "      <td>NaN</td>\n",
       "      <td>ENFJ</td>\n",
       "      <td>0.127343</td>\n",
       "    </tr>\n",
       "    <tr>\n",
       "      <th>2</th>\n",
       "      <td>id03</td>\n",
       "      <td>27.0</td>\n",
       "      <td>서울</td>\n",
       "      <td>61.0</td>\n",
       "      <td>1</td>\n",
       "      <td>NaN</td>\n",
       "      <td>ISTJ</td>\n",
       "      <td>-1.394535</td>\n",
       "    </tr>\n",
       "    <tr>\n",
       "      <th>3</th>\n",
       "      <td>id04</td>\n",
       "      <td>75.0</td>\n",
       "      <td>서울</td>\n",
       "      <td>NaN</td>\n",
       "      <td>2</td>\n",
       "      <td>NaN</td>\n",
       "      <td>INFP</td>\n",
       "      <td>-0.143667</td>\n",
       "    </tr>\n",
       "    <tr>\n",
       "      <th>4</th>\n",
       "      <td>id05</td>\n",
       "      <td>24.0</td>\n",
       "      <td>서울</td>\n",
       "      <td>85.0</td>\n",
       "      <td>2</td>\n",
       "      <td>NaN</td>\n",
       "      <td>ISFJ</td>\n",
       "      <td>-0.970085</td>\n",
       "    </tr>\n",
       "  </tbody>\n",
       "</table>\n",
       "</div>"
      ],
      "text/plain": [
       "     id   age city    f1  f2   f3    f4        f5\n",
       "0  id01   2.0   서울   NaN   0  NaN  ENFJ  1.220815\n",
       "1  id02   9.0   서울  70.0   1  NaN  ENFJ  0.127343\n",
       "2  id03  27.0   서울  61.0   1  NaN  ISTJ -1.394535\n",
       "3  id04  75.0   서울   NaN   2  NaN  INFP -0.143667\n",
       "4  id05  24.0   서울  85.0   2  NaN  ISFJ -0.970085"
      ]
     },
     "execution_count": 6,
     "metadata": {},
     "output_type": "execute_result"
    }
   ],
   "source": [
    "# 표준화\n",
    "from sklearn.preprocessing import StandardScaler\n",
    "\n",
    "scaler = StandardScaler()\n",
    "df['f5']=scaler.fit_transform(df[['f5']])\n",
    "df.head()"
   ]
  },
  {
   "cell_type": "code",
   "execution_count": 7,
   "id": "af90d5d2",
   "metadata": {
    "execution": {
     "iopub.execute_input": "2023-11-28T05:19:22.688459Z",
     "iopub.status.busy": "2023-11-28T05:19:22.687570Z",
     "iopub.status.idle": "2023-11-28T05:19:22.691577Z",
     "shell.execute_reply": "2023-11-28T05:19:22.692233Z",
     "shell.execute_reply.started": "2023-11-28T05:18:29.917916Z"
    },
    "papermill": {
     "duration": 0.024692,
     "end_time": "2023-11-28T05:19:22.692459",
     "exception": false,
     "start_time": "2023-11-28T05:19:22.667767",
     "status": "completed"
    },
    "tags": []
   },
   "outputs": [
    {
     "name": "stdout",
     "output_type": "stream",
     "text": [
      "0.260619629559015\n"
     ]
    }
   ],
   "source": [
    "# 중앙값 출력\n",
    "print(df['f5'].median())"
   ]
  }
 ],
 "metadata": {
  "kaggle": {
   "accelerator": "none",
   "dataSources": [
    {
     "datasetId": 1633303,
     "sourceId": 7061047,
     "sourceType": "datasetVersion"
    }
   ],
   "dockerImageVersionId": 30138,
   "isGpuEnabled": false,
   "isInternetEnabled": true,
   "language": "python",
   "sourceType": "notebook"
  },
  "kernelspec": {
   "display_name": "Python 3",
   "language": "python",
   "name": "python3"
  },
  "language_info": {
   "codemirror_mode": {
    "name": "ipython",
    "version": 3
   },
   "file_extension": ".py",
   "mimetype": "text/x-python",
   "name": "python",
   "nbconvert_exporter": "python",
   "pygments_lexer": "ipython3",
   "version": "3.7.10"
  },
  "papermill": {
   "default_parameters": {},
   "duration": 15.303538,
   "end_time": "2023-11-28T05:19:23.519899",
   "environment_variables": {},
   "exception": null,
   "input_path": "__notebook__.ipynb",
   "output_path": "__notebook__.ipynb",
   "parameters": {},
   "start_time": "2023-11-28T05:19:08.216361",
   "version": "2.3.3"
  }
 },
 "nbformat": 4,
 "nbformat_minor": 5
}
