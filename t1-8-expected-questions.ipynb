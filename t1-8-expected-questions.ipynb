{
 "cells": [
  {
   "cell_type": "markdown",
   "id": "5d06c4e5",
   "metadata": {
    "papermill": {
     "duration": 0.015534,
     "end_time": "2023-11-28T05:05:08.508320",
     "exception": false,
     "start_time": "2023-11-28T05:05:08.492786",
     "status": "completed"
    },
    "tags": []
   },
   "source": [
    "### 주어진 데이터 셋에서 'f2' 컬럼이 1인 조건에 해당하는 데이터의 'f1'컬럼 누적합을 계산한다. 이때 발생하는 누적합 결측치는 바로 뒤의 값을 채우고, 누적합의 평균값을 출력한다. (단, 결측치 바로 뒤의 값이 없으면 다음에 나오는 값을 채워넣는다)\n",
    "\n",
    "- 데이터셋 : basic1.csv\n",
    "- 오른쪽 상단 copy&edit 클릭 -> 예상문제 풀이 시작"
   ]
  },
  {
   "cell_type": "code",
   "execution_count": 1,
   "id": "37e96935",
   "metadata": {
    "execution": {
     "iopub.execute_input": "2023-11-28T05:05:08.552878Z",
     "iopub.status.busy": "2023-11-28T05:05:08.550611Z",
     "iopub.status.idle": "2023-11-28T05:05:08.584710Z",
     "shell.execute_reply": "2023-11-28T05:05:08.585466Z",
     "shell.execute_reply.started": "2023-11-28T05:00:56.946709Z"
    },
    "papermill": {
     "duration": 0.0626,
     "end_time": "2023-11-28T05:05:08.585912",
     "exception": false,
     "start_time": "2023-11-28T05:05:08.523312",
     "status": "completed"
    },
    "tags": []
   },
   "outputs": [
    {
     "data": {
      "text/plain": [
       "(100, 8)"
      ]
     },
     "execution_count": 1,
     "metadata": {},
     "output_type": "execute_result"
    }
   ],
   "source": [
    "# 라이브러리 및 데이터 불러오기\n",
    "import pandas as pd\n",
    "import numpy as np\n",
    "\n",
    "df = pd.read_csv('/kaggle/input/bigdatacertificationkr/basic1.csv')\n",
    "df.shape"
   ]
  },
  {
   "cell_type": "code",
   "execution_count": 2,
   "id": "890b34f8",
   "metadata": {
    "execution": {
     "iopub.execute_input": "2023-11-28T05:05:08.628493Z",
     "iopub.status.busy": "2023-11-28T05:05:08.627547Z",
     "iopub.status.idle": "2023-11-28T05:05:08.642424Z",
     "shell.execute_reply": "2023-11-28T05:05:08.641727Z",
     "shell.execute_reply.started": "2023-11-28T05:01:29.618000Z"
    },
    "papermill": {
     "duration": 0.040286,
     "end_time": "2023-11-28T05:05:08.642618",
     "exception": false,
     "start_time": "2023-11-28T05:05:08.602332",
     "status": "completed"
    },
    "tags": []
   },
   "outputs": [
    {
     "data": {
      "text/plain": [
       "1       70.0\n",
       "2      131.0\n",
       "6      191.0\n",
       "7      292.0\n",
       "9      366.0\n",
       "13     416.0\n",
       "14     483.0\n",
       "16       NaN\n",
       "19     534.0\n",
       "20       NaN\n",
       "21     606.0\n",
       "22     681.0\n",
       "25     738.0\n",
       "27     772.0\n",
       "33       NaN\n",
       "35     849.0\n",
       "37       NaN\n",
       "46     924.0\n",
       "49    1002.0\n",
       "51    1084.0\n",
       "53       NaN\n",
       "55       NaN\n",
       "58       NaN\n",
       "62    1170.0\n",
       "65       NaN\n",
       "66    1222.0\n",
       "69    1318.0\n",
       "72       NaN\n",
       "77    1414.0\n",
       "80    1464.0\n",
       "82    1514.0\n",
       "86       NaN\n",
       "88    1580.0\n",
       "91    1658.0\n",
       "93       NaN\n",
       "94    1701.0\n",
       "95    1754.0\n",
       "Name: f1, dtype: float64"
      ]
     },
     "execution_count": 2,
     "metadata": {},
     "output_type": "execute_result"
    }
   ],
   "source": [
    "# 조건에 따른 누적합\n",
    "df2 = df[df['f2']==1]['f1'].cumsum()\n",
    "df2"
   ]
  },
  {
   "cell_type": "code",
   "execution_count": 3,
   "id": "0f26d923",
   "metadata": {
    "execution": {
     "iopub.execute_input": "2023-11-28T05:05:08.697983Z",
     "iopub.status.busy": "2023-11-28T05:05:08.696453Z",
     "iopub.status.idle": "2023-11-28T05:05:08.701951Z",
     "shell.execute_reply": "2023-11-28T05:05:08.702660Z",
     "shell.execute_reply.started": "2023-11-28T05:02:34.456703Z"
    },
    "papermill": {
     "duration": 0.040806,
     "end_time": "2023-11-28T05:05:08.702916",
     "exception": false,
     "start_time": "2023-11-28T05:05:08.662110",
     "status": "completed"
    },
    "tags": []
   },
   "outputs": [
    {
     "data": {
      "text/plain": [
       "1       70.0\n",
       "2      131.0\n",
       "6      191.0\n",
       "7      292.0\n",
       "9      366.0\n",
       "13     416.0\n",
       "14     483.0\n",
       "16     534.0\n",
       "19     534.0\n",
       "20     606.0\n",
       "21     606.0\n",
       "22     681.0\n",
       "25     738.0\n",
       "27     772.0\n",
       "33     849.0\n",
       "35     849.0\n",
       "37     924.0\n",
       "46     924.0\n",
       "49    1002.0\n",
       "51    1084.0\n",
       "53    1170.0\n",
       "55    1170.0\n",
       "58    1170.0\n",
       "62    1170.0\n",
       "65    1222.0\n",
       "66    1222.0\n",
       "69    1318.0\n",
       "72    1414.0\n",
       "77    1414.0\n",
       "80    1464.0\n",
       "82    1514.0\n",
       "86    1580.0\n",
       "88    1580.0\n",
       "91    1658.0\n",
       "93    1701.0\n",
       "94    1701.0\n",
       "95    1754.0\n",
       "Name: f1, dtype: float64"
      ]
     },
     "execution_count": 3,
     "metadata": {},
     "output_type": "execute_result"
    }
   ],
   "source": [
    "# 결측치 처리 (뒤에 나오는 값으로 채움)\n",
    "df2 = df2.fillna(method='bfill')\n",
    "df2"
   ]
  },
  {
   "cell_type": "code",
   "execution_count": 4,
   "id": "a4941db4",
   "metadata": {
    "execution": {
     "iopub.execute_input": "2023-11-28T05:05:08.740840Z",
     "iopub.status.busy": "2023-11-28T05:05:08.739604Z",
     "iopub.status.idle": "2023-11-28T05:05:08.747794Z",
     "shell.execute_reply": "2023-11-28T05:05:08.747098Z",
     "shell.execute_reply.started": "2023-11-28T05:02:52.885730Z"
    },
    "papermill": {
     "duration": 0.030132,
     "end_time": "2023-11-28T05:05:08.747992",
     "exception": false,
     "start_time": "2023-11-28T05:05:08.717860",
     "status": "completed"
    },
    "tags": []
   },
   "outputs": [
    {
     "name": "stdout",
     "output_type": "stream",
     "text": [
      "980.3783783783783\n"
     ]
    }
   ],
   "source": [
    "# 평균 출력\n",
    "print(df2.mean())"
   ]
  },
  {
   "cell_type": "markdown",
   "id": "1300d1c0",
   "metadata": {
    "papermill": {
     "duration": 0.015433,
     "end_time": "2023-11-28T05:05:08.779534",
     "exception": false,
     "start_time": "2023-11-28T05:05:08.764101",
     "status": "completed"
    },
    "tags": []
   },
   "source": [
    "## Hint"
   ]
  },
  {
   "cell_type": "code",
   "execution_count": 5,
   "id": "e28b7683",
   "metadata": {
    "execution": {
     "iopub.execute_input": "2023-11-28T05:05:08.818404Z",
     "iopub.status.busy": "2023-11-28T05:05:08.816781Z",
     "iopub.status.idle": "2023-11-28T05:05:08.833539Z",
     "shell.execute_reply": "2023-11-28T05:05:08.834514Z",
     "shell.execute_reply.started": "2023-11-28T05:03:03.630200Z"
    },
    "papermill": {
     "duration": 0.039406,
     "end_time": "2023-11-28T05:05:08.834801",
     "exception": false,
     "start_time": "2023-11-28T05:05:08.795395",
     "status": "completed"
    },
    "tags": []
   },
   "outputs": [
    {
     "name": "stdout",
     "output_type": "stream",
     "text": [
      "0     NaN\n",
      "1     퇴근후\n",
      "2     NaN\n",
      "3      딴짓\n",
      "4     NaN\n",
      "5      22\n",
      "6     NaN\n",
      "7      45\n",
      "8     NaN\n",
      "9     NaN\n",
      "10     60\n",
      "dtype: object\n"
     ]
    },
    {
     "data": {
      "text/plain": [
       "0     퇴근후\n",
       "1     퇴근후\n",
       "2      딴짓\n",
       "3      딴짓\n",
       "4      22\n",
       "5      22\n",
       "6      45\n",
       "7      45\n",
       "8      60\n",
       "9      60\n",
       "10     60\n",
       "dtype: object"
      ]
     },
     "execution_count": 5,
     "metadata": {},
     "output_type": "execute_result"
    }
   ],
   "source": [
    "import pandas as pd\n",
    "import numpy as np\n",
    "\n",
    "# 뒷값으로 결측치 채우기\n",
    "s = pd.Series([np.nan, \"퇴근후\", np.nan,\"딴짓\", np.nan, 22, np.nan,45, np.nan, np.nan, 60])\n",
    "print(s)\n",
    "\n",
    "s.fillna(method='bfill') # 바로 뒤값으로 채워넣는 방법\n",
    "# s.fillna(method='pad') # 이전값으로 채워넣는 방법"
   ]
  },
  {
   "cell_type": "markdown",
   "id": "6d33fcc9",
   "metadata": {
    "papermill": {
     "duration": 0.018717,
     "end_time": "2023-11-28T05:05:08.870761",
     "exception": false,
     "start_time": "2023-11-28T05:05:08.852044",
     "status": "completed"
    },
    "tags": []
   },
   "source": [
    "## 풀이"
   ]
  },
  {
   "cell_type": "code",
   "execution_count": 6,
   "id": "cbb40dcd",
   "metadata": {
    "_cell_guid": "b1076dfc-b9ad-4769-8c92-a6c4dae69d19",
    "_uuid": "8f2839f25d086af736a60e9eeb907d3b93b6e0e5",
    "execution": {
     "iopub.execute_input": "2023-11-28T05:05:08.909212Z",
     "iopub.status.busy": "2023-11-28T05:05:08.907546Z",
     "iopub.status.idle": "2023-11-28T05:05:08.937074Z",
     "shell.execute_reply": "2023-11-28T05:05:08.937887Z",
     "shell.execute_reply.started": "2023-11-28T05:03:11.918975Z"
    },
    "papermill": {
     "duration": 0.049792,
     "end_time": "2023-11-28T05:05:08.938159",
     "exception": false,
     "start_time": "2023-11-28T05:05:08.888367",
     "status": "completed"
    },
    "tags": []
   },
   "outputs": [
    {
     "data": {
      "text/html": [
       "<div>\n",
       "<style scoped>\n",
       "    .dataframe tbody tr th:only-of-type {\n",
       "        vertical-align: middle;\n",
       "    }\n",
       "\n",
       "    .dataframe tbody tr th {\n",
       "        vertical-align: top;\n",
       "    }\n",
       "\n",
       "    .dataframe thead th {\n",
       "        text-align: right;\n",
       "    }\n",
       "</style>\n",
       "<table border=\"1\" class=\"dataframe\">\n",
       "  <thead>\n",
       "    <tr style=\"text-align: right;\">\n",
       "      <th></th>\n",
       "      <th>id</th>\n",
       "      <th>age</th>\n",
       "      <th>city</th>\n",
       "      <th>f1</th>\n",
       "      <th>f2</th>\n",
       "      <th>f3</th>\n",
       "      <th>f4</th>\n",
       "      <th>f5</th>\n",
       "    </tr>\n",
       "  </thead>\n",
       "  <tbody>\n",
       "    <tr>\n",
       "      <th>0</th>\n",
       "      <td>id01</td>\n",
       "      <td>2.0</td>\n",
       "      <td>서울</td>\n",
       "      <td>NaN</td>\n",
       "      <td>0</td>\n",
       "      <td>NaN</td>\n",
       "      <td>ENFJ</td>\n",
       "      <td>91.297791</td>\n",
       "    </tr>\n",
       "    <tr>\n",
       "      <th>1</th>\n",
       "      <td>id02</td>\n",
       "      <td>9.0</td>\n",
       "      <td>서울</td>\n",
       "      <td>70.0</td>\n",
       "      <td>1</td>\n",
       "      <td>NaN</td>\n",
       "      <td>ENFJ</td>\n",
       "      <td>60.339826</td>\n",
       "    </tr>\n",
       "  </tbody>\n",
       "</table>\n",
       "</div>"
      ],
      "text/plain": [
       "     id  age city    f1  f2   f3    f4         f5\n",
       "0  id01  2.0   서울   NaN   0  NaN  ENFJ  91.297791\n",
       "1  id02  9.0   서울  70.0   1  NaN  ENFJ  60.339826"
      ]
     },
     "execution_count": 6,
     "metadata": {},
     "output_type": "execute_result"
    }
   ],
   "source": [
    "# 라이브러리 및 데이터 불러오기\n",
    "import pandas as pd\n",
    "import numpy as np\n",
    "\n",
    "df = pd.read_csv('../input/bigdatacertificationkr/basic1.csv')\n",
    "df.head(2)"
   ]
  },
  {
   "cell_type": "code",
   "execution_count": 7,
   "id": "09f3d005",
   "metadata": {
    "execution": {
     "iopub.execute_input": "2023-11-28T05:05:08.979931Z",
     "iopub.status.busy": "2023-11-28T05:05:08.978683Z",
     "iopub.status.idle": "2023-11-28T05:05:08.994327Z",
     "shell.execute_reply": "2023-11-28T05:05:08.993626Z",
     "shell.execute_reply.started": "2023-11-28T05:03:14.517649Z"
    },
    "papermill": {
     "duration": 0.038173,
     "end_time": "2023-11-28T05:05:08.994512",
     "exception": false,
     "start_time": "2023-11-28T05:05:08.956339",
     "status": "completed"
    },
    "tags": []
   },
   "outputs": [
    {
     "data": {
      "text/plain": [
       "1       70.0\n",
       "2      131.0\n",
       "6      191.0\n",
       "7      292.0\n",
       "9      366.0\n",
       "13     416.0\n",
       "14     483.0\n",
       "16       NaN\n",
       "19     534.0\n",
       "20       NaN\n",
       "21     606.0\n",
       "22     681.0\n",
       "25     738.0\n",
       "27     772.0\n",
       "33       NaN\n",
       "35     849.0\n",
       "37       NaN\n",
       "46     924.0\n",
       "49    1002.0\n",
       "51    1084.0\n",
       "53       NaN\n",
       "55       NaN\n",
       "58       NaN\n",
       "62    1170.0\n",
       "65       NaN\n",
       "66    1222.0\n",
       "69    1318.0\n",
       "72       NaN\n",
       "77    1414.0\n",
       "80    1464.0\n",
       "82    1514.0\n",
       "86       NaN\n",
       "88    1580.0\n",
       "91    1658.0\n",
       "93       NaN\n",
       "94    1701.0\n",
       "95    1754.0\n",
       "Name: f1, dtype: float64"
      ]
     },
     "execution_count": 7,
     "metadata": {},
     "output_type": "execute_result"
    }
   ],
   "source": [
    "# 조건에 따른 누적합\n",
    "df2 = df[df['f2']==1]['f1'].cumsum()\n",
    "df2"
   ]
  },
  {
   "cell_type": "code",
   "execution_count": 8,
   "id": "43309fa1",
   "metadata": {
    "execution": {
     "iopub.execute_input": "2023-11-28T05:05:09.037889Z",
     "iopub.status.busy": "2023-11-28T05:05:09.036963Z",
     "iopub.status.idle": "2023-11-28T05:05:09.041006Z",
     "shell.execute_reply": "2023-11-28T05:05:09.041622Z",
     "shell.execute_reply.started": "2023-11-28T05:03:16.859636Z"
    },
    "papermill": {
     "duration": 0.031003,
     "end_time": "2023-11-28T05:05:09.041834",
     "exception": false,
     "start_time": "2023-11-28T05:05:09.010831",
     "status": "completed"
    },
    "tags": []
   },
   "outputs": [
    {
     "data": {
      "text/plain": [
       "1       70.0\n",
       "2      131.0\n",
       "6      191.0\n",
       "7      292.0\n",
       "9      366.0\n",
       "13     416.0\n",
       "14     483.0\n",
       "16     534.0\n",
       "19     534.0\n",
       "20     606.0\n",
       "21     606.0\n",
       "22     681.0\n",
       "25     738.0\n",
       "27     772.0\n",
       "33     849.0\n",
       "35     849.0\n",
       "37     924.0\n",
       "46     924.0\n",
       "49    1002.0\n",
       "51    1084.0\n",
       "53    1170.0\n",
       "55    1170.0\n",
       "58    1170.0\n",
       "62    1170.0\n",
       "65    1222.0\n",
       "66    1222.0\n",
       "69    1318.0\n",
       "72    1414.0\n",
       "77    1414.0\n",
       "80    1464.0\n",
       "82    1514.0\n",
       "86    1580.0\n",
       "88    1580.0\n",
       "91    1658.0\n",
       "93    1701.0\n",
       "94    1701.0\n",
       "95    1754.0\n",
       "Name: f1, dtype: float64"
      ]
     },
     "execution_count": 8,
     "metadata": {},
     "output_type": "execute_result"
    }
   ],
   "source": [
    "# 결측치 처리 (뒤에 나오는 값으로 채움)\n",
    "df2 = df2.fillna(method = 'bfill')\n",
    "df2"
   ]
  },
  {
   "cell_type": "code",
   "execution_count": 9,
   "id": "939e4594",
   "metadata": {
    "execution": {
     "iopub.execute_input": "2023-11-28T05:05:09.082873Z",
     "iopub.status.busy": "2023-11-28T05:05:09.082050Z",
     "iopub.status.idle": "2023-11-28T05:05:09.086454Z",
     "shell.execute_reply": "2023-11-28T05:05:09.087028Z",
     "shell.execute_reply.started": "2023-11-28T05:03:19.138476Z"
    },
    "papermill": {
     "duration": 0.028467,
     "end_time": "2023-11-28T05:05:09.087248",
     "exception": false,
     "start_time": "2023-11-28T05:05:09.058781",
     "status": "completed"
    },
    "tags": []
   },
   "outputs": [
    {
     "name": "stdout",
     "output_type": "stream",
     "text": [
      "980.3783783783783\n"
     ]
    }
   ],
   "source": [
    "# 평균 출력\n",
    "print(df2.mean())"
   ]
  }
 ],
 "metadata": {
  "kaggle": {
   "accelerator": "none",
   "dataSources": [
    {
     "datasetId": 1633303,
     "sourceId": 7061047,
     "sourceType": "datasetVersion"
    }
   ],
   "dockerImageVersionId": 30138,
   "isGpuEnabled": false,
   "isInternetEnabled": true,
   "language": "python",
   "sourceType": "notebook"
  },
  "kernelspec": {
   "display_name": "Python 3",
   "language": "python",
   "name": "python3"
  },
  "language_info": {
   "codemirror_mode": {
    "name": "ipython",
    "version": 3
   },
   "file_extension": ".py",
   "mimetype": "text/x-python",
   "name": "python",
   "nbconvert_exporter": "python",
   "pygments_lexer": "ipython3",
   "version": "3.7.10"
  },
  "papermill": {
   "default_parameters": {},
   "duration": 13.274855,
   "end_time": "2023-11-28T05:05:09.717833",
   "environment_variables": {},
   "exception": null,
   "input_path": "__notebook__.ipynb",
   "output_path": "__notebook__.ipynb",
   "parameters": {},
   "start_time": "2023-11-28T05:04:56.442978",
   "version": "2.3.3"
  }
 },
 "nbformat": 4,
 "nbformat_minor": 5
}
