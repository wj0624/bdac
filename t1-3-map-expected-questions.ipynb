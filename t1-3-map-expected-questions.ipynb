{
 "cells": [
  {
   "cell_type": "markdown",
   "id": "5cada962",
   "metadata": {
    "papermill": {
     "duration": 0.014342,
     "end_time": "2023-11-28T02:09:01.375034",
     "exception": false,
     "start_time": "2023-11-28T02:09:01.360692",
     "status": "completed"
    },
    "tags": []
   },
   "source": [
    "## 결측치 처리\n",
    "-  주어진 데이터에서 결측치가 80%이상 되는 컬럼은(변수는) 삭제하고, 80% 미만인 결측치가 있는 컬럼은 'city'별 중앙값으로 값을 대체하고 'f1'컬럼의 평균값을 출력하세요!\n",
    "- 데이터셋 : basic1.csv 오른쪽 상단 copy&edit 클릭 -> 예상문제 풀이 시작\n",
    "- 강의 영상 : https://youtu.be/WqlpqBRn7x4"
   ]
  },
  {
   "cell_type": "code",
   "execution_count": 1,
   "id": "50cefc7e",
   "metadata": {
    "execution": {
     "iopub.execute_input": "2023-11-28T02:09:01.405680Z",
     "iopub.status.busy": "2023-11-28T02:09:01.404657Z",
     "iopub.status.idle": "2023-11-28T02:09:01.450639Z",
     "shell.execute_reply": "2023-11-28T02:09:01.449874Z",
     "shell.execute_reply.started": "2023-11-28T01:50:42.302143Z"
    },
    "papermill": {
     "duration": 0.062239,
     "end_time": "2023-11-28T02:09:01.450815",
     "exception": false,
     "start_time": "2023-11-28T02:09:01.388576",
     "status": "completed"
    },
    "tags": []
   },
   "outputs": [
    {
     "data": {
      "text/html": [
       "<div>\n",
       "<style scoped>\n",
       "    .dataframe tbody tr th:only-of-type {\n",
       "        vertical-align: middle;\n",
       "    }\n",
       "\n",
       "    .dataframe tbody tr th {\n",
       "        vertical-align: top;\n",
       "    }\n",
       "\n",
       "    .dataframe thead th {\n",
       "        text-align: right;\n",
       "    }\n",
       "</style>\n",
       "<table border=\"1\" class=\"dataframe\">\n",
       "  <thead>\n",
       "    <tr style=\"text-align: right;\">\n",
       "      <th></th>\n",
       "      <th>id</th>\n",
       "      <th>age</th>\n",
       "      <th>city</th>\n",
       "      <th>f1</th>\n",
       "      <th>f2</th>\n",
       "      <th>f3</th>\n",
       "      <th>f4</th>\n",
       "      <th>f5</th>\n",
       "    </tr>\n",
       "  </thead>\n",
       "  <tbody>\n",
       "    <tr>\n",
       "      <th>0</th>\n",
       "      <td>id01</td>\n",
       "      <td>2.0</td>\n",
       "      <td>서울</td>\n",
       "      <td>NaN</td>\n",
       "      <td>0</td>\n",
       "      <td>NaN</td>\n",
       "      <td>ENFJ</td>\n",
       "      <td>91.297791</td>\n",
       "    </tr>\n",
       "    <tr>\n",
       "      <th>1</th>\n",
       "      <td>id02</td>\n",
       "      <td>9.0</td>\n",
       "      <td>서울</td>\n",
       "      <td>70.0</td>\n",
       "      <td>1</td>\n",
       "      <td>NaN</td>\n",
       "      <td>ENFJ</td>\n",
       "      <td>60.339826</td>\n",
       "    </tr>\n",
       "    <tr>\n",
       "      <th>2</th>\n",
       "      <td>id03</td>\n",
       "      <td>27.0</td>\n",
       "      <td>서울</td>\n",
       "      <td>61.0</td>\n",
       "      <td>1</td>\n",
       "      <td>NaN</td>\n",
       "      <td>ISTJ</td>\n",
       "      <td>17.252986</td>\n",
       "    </tr>\n",
       "    <tr>\n",
       "      <th>3</th>\n",
       "      <td>id04</td>\n",
       "      <td>75.0</td>\n",
       "      <td>서울</td>\n",
       "      <td>NaN</td>\n",
       "      <td>2</td>\n",
       "      <td>NaN</td>\n",
       "      <td>INFP</td>\n",
       "      <td>52.667078</td>\n",
       "    </tr>\n",
       "    <tr>\n",
       "      <th>4</th>\n",
       "      <td>id05</td>\n",
       "      <td>24.0</td>\n",
       "      <td>서울</td>\n",
       "      <td>85.0</td>\n",
       "      <td>2</td>\n",
       "      <td>NaN</td>\n",
       "      <td>ISFJ</td>\n",
       "      <td>29.269869</td>\n",
       "    </tr>\n",
       "  </tbody>\n",
       "</table>\n",
       "</div>"
      ],
      "text/plain": [
       "     id   age city    f1  f2   f3    f4         f5\n",
       "0  id01   2.0   서울   NaN   0  NaN  ENFJ  91.297791\n",
       "1  id02   9.0   서울  70.0   1  NaN  ENFJ  60.339826\n",
       "2  id03  27.0   서울  61.0   1  NaN  ISTJ  17.252986\n",
       "3  id04  75.0   서울   NaN   2  NaN  INFP  52.667078\n",
       "4  id05  24.0   서울  85.0   2  NaN  ISFJ  29.269869"
      ]
     },
     "execution_count": 1,
     "metadata": {},
     "output_type": "execute_result"
    }
   ],
   "source": [
    "# 라이브러리 및 데이터 불러오기\n",
    "import pandas as pd\n",
    "import numpy as np\n",
    "\n",
    "df = pd.read_csv('/kaggle/input/bigdatacertificationkr/basic1.csv')\n",
    "df.head()"
   ]
  },
  {
   "cell_type": "code",
   "execution_count": 2,
   "id": "c24be7d9",
   "metadata": {
    "execution": {
     "iopub.execute_input": "2023-11-28T02:09:01.492119Z",
     "iopub.status.busy": "2023-11-28T02:09:01.491368Z",
     "iopub.status.idle": "2023-11-28T02:09:01.504013Z",
     "shell.execute_reply": "2023-11-28T02:09:01.503052Z",
     "shell.execute_reply.started": "2023-11-28T01:50:43.694259Z"
    },
    "papermill": {
     "duration": 0.035644,
     "end_time": "2023-11-28T02:09:01.504220",
     "exception": false,
     "start_time": "2023-11-28T02:09:01.468576",
     "status": "completed"
    },
    "tags": []
   },
   "outputs": [
    {
     "name": "stdout",
     "output_type": "stream",
     "text": [
      "(100, 8)\n",
      "id      0.00\n",
      "age     0.00\n",
      "city    0.00\n",
      "f1      0.31\n",
      "f2      0.00\n",
      "f3      0.95\n",
      "f4      0.00\n",
      "f5      0.00\n",
      "dtype: float64\n"
     ]
    }
   ],
   "source": [
    "# EDA - 결측값 확인(비율 확인)\n",
    "print(df.shape)\n",
    "print(df.isnull().sum()/len(df))"
   ]
  },
  {
   "cell_type": "code",
   "execution_count": 3,
   "id": "dfa50952",
   "metadata": {
    "execution": {
     "iopub.execute_input": "2023-11-28T02:09:01.553082Z",
     "iopub.status.busy": "2023-11-28T02:09:01.552189Z",
     "iopub.status.idle": "2023-11-28T02:09:01.565691Z",
     "shell.execute_reply": "2023-11-28T02:09:01.566183Z",
     "shell.execute_reply.started": "2023-11-28T01:50:46.375716Z"
    },
    "papermill": {
     "duration": 0.046095,
     "end_time": "2023-11-28T02:09:01.566350",
     "exception": false,
     "start_time": "2023-11-28T02:09:01.520255",
     "status": "completed"
    },
    "tags": []
   },
   "outputs": [
    {
     "data": {
      "text/html": [
       "<div>\n",
       "<style scoped>\n",
       "    .dataframe tbody tr th:only-of-type {\n",
       "        vertical-align: middle;\n",
       "    }\n",
       "\n",
       "    .dataframe tbody tr th {\n",
       "        vertical-align: top;\n",
       "    }\n",
       "\n",
       "    .dataframe thead th {\n",
       "        text-align: right;\n",
       "    }\n",
       "</style>\n",
       "<table border=\"1\" class=\"dataframe\">\n",
       "  <thead>\n",
       "    <tr style=\"text-align: right;\">\n",
       "      <th></th>\n",
       "      <th>id</th>\n",
       "      <th>age</th>\n",
       "      <th>city</th>\n",
       "      <th>f1</th>\n",
       "      <th>f2</th>\n",
       "      <th>f4</th>\n",
       "      <th>f5</th>\n",
       "    </tr>\n",
       "  </thead>\n",
       "  <tbody>\n",
       "    <tr>\n",
       "      <th>0</th>\n",
       "      <td>id01</td>\n",
       "      <td>2.0</td>\n",
       "      <td>서울</td>\n",
       "      <td>NaN</td>\n",
       "      <td>0</td>\n",
       "      <td>ENFJ</td>\n",
       "      <td>91.297791</td>\n",
       "    </tr>\n",
       "    <tr>\n",
       "      <th>1</th>\n",
       "      <td>id02</td>\n",
       "      <td>9.0</td>\n",
       "      <td>서울</td>\n",
       "      <td>70.0</td>\n",
       "      <td>1</td>\n",
       "      <td>ENFJ</td>\n",
       "      <td>60.339826</td>\n",
       "    </tr>\n",
       "    <tr>\n",
       "      <th>2</th>\n",
       "      <td>id03</td>\n",
       "      <td>27.0</td>\n",
       "      <td>서울</td>\n",
       "      <td>61.0</td>\n",
       "      <td>1</td>\n",
       "      <td>ISTJ</td>\n",
       "      <td>17.252986</td>\n",
       "    </tr>\n",
       "    <tr>\n",
       "      <th>3</th>\n",
       "      <td>id04</td>\n",
       "      <td>75.0</td>\n",
       "      <td>서울</td>\n",
       "      <td>NaN</td>\n",
       "      <td>2</td>\n",
       "      <td>INFP</td>\n",
       "      <td>52.667078</td>\n",
       "    </tr>\n",
       "    <tr>\n",
       "      <th>4</th>\n",
       "      <td>id05</td>\n",
       "      <td>24.0</td>\n",
       "      <td>서울</td>\n",
       "      <td>85.0</td>\n",
       "      <td>2</td>\n",
       "      <td>ISFJ</td>\n",
       "      <td>29.269869</td>\n",
       "    </tr>\n",
       "  </tbody>\n",
       "</table>\n",
       "</div>"
      ],
      "text/plain": [
       "     id   age city    f1  f2    f4         f5\n",
       "0  id01   2.0   서울   NaN   0  ENFJ  91.297791\n",
       "1  id02   9.0   서울  70.0   1  ENFJ  60.339826\n",
       "2  id03  27.0   서울  61.0   1  ISTJ  17.252986\n",
       "3  id04  75.0   서울   NaN   2  INFP  52.667078\n",
       "4  id05  24.0   서울  85.0   2  ISFJ  29.269869"
      ]
     },
     "execution_count": 3,
     "metadata": {},
     "output_type": "execute_result"
    }
   ],
   "source": [
    "# 80%이상 결측치 컬럼, 삭제\n",
    "df = df.drop(columns=['f3'])\n",
    "df.head()"
   ]
  },
  {
   "cell_type": "code",
   "execution_count": 4,
   "id": "0aeb015f",
   "metadata": {
    "execution": {
     "iopub.execute_input": "2023-11-28T02:09:01.607745Z",
     "iopub.status.busy": "2023-11-28T02:09:01.602452Z",
     "iopub.status.idle": "2023-11-28T02:09:01.623998Z",
     "shell.execute_reply": "2023-11-28T02:09:01.623495Z",
     "shell.execute_reply.started": "2023-11-28T02:07:45.639548Z"
    },
    "papermill": {
     "duration": 0.038899,
     "end_time": "2023-11-28T02:09:01.624123",
     "exception": false,
     "start_time": "2023-11-28T02:09:01.585224",
     "status": "completed"
    },
    "tags": []
   },
   "outputs": [
    {
     "name": "stdout",
     "output_type": "stream",
     "text": [
      "58.0 75.0 62.0 68.0\n"
     ]
    },
    {
     "data": {
      "text/plain": [
       "0     68.0\n",
       "1     70.0\n",
       "2     61.0\n",
       "3     68.0\n",
       "4     85.0\n",
       "      ... \n",
       "95    53.0\n",
       "96    58.0\n",
       "97    58.0\n",
       "98    47.0\n",
       "99    53.0\n",
       "Name: f1, Length: 100, dtype: float64"
      ]
     },
     "execution_count": 4,
     "metadata": {},
     "output_type": "execute_result"
    }
   ],
   "source": [
    "# 80%미만 결측치 컬럼, city별 중앙값으로 대체\n",
    "df['city'].unique()\n",
    "kk, dg, ps, se  = df.groupby('city')['f1'].median()\n",
    "print(kk, dg, ps, se)\n",
    "df['f1'] = df['f1'].fillna(df['city'].map({'서울':se, '경기':kk, '부산':ps, '대구':dg}))\n",
    "df['f1']"
   ]
  },
  {
   "cell_type": "code",
   "execution_count": 5,
   "id": "3e2402e1",
   "metadata": {
    "execution": {
     "iopub.execute_input": "2023-11-28T02:09:01.660941Z",
     "iopub.status.busy": "2023-11-28T02:09:01.660119Z",
     "iopub.status.idle": "2023-11-28T02:09:01.663762Z",
     "shell.execute_reply": "2023-11-28T02:09:01.664244Z",
     "shell.execute_reply.started": "2023-11-28T02:08:09.624065Z"
    },
    "papermill": {
     "duration": 0.024162,
     "end_time": "2023-11-28T02:09:01.664414",
     "exception": false,
     "start_time": "2023-11-28T02:09:01.640252",
     "status": "completed"
    },
    "tags": []
   },
   "outputs": [
    {
     "name": "stdout",
     "output_type": "stream",
     "text": [
      "65.52\n"
     ]
    }
   ],
   "source": [
    "# f1 평균값 결과 출력\n",
    "print(df['f1'].mean())"
   ]
  },
  {
   "cell_type": "markdown",
   "id": "5d75d7e7",
   "metadata": {
    "papermill": {
     "duration": 0.016377,
     "end_time": "2023-11-28T02:09:01.696148",
     "exception": false,
     "start_time": "2023-11-28T02:09:01.679771",
     "status": "completed"
    },
    "tags": []
   },
   "source": [
    "## Hint\n",
    "- city별 중앙값으로 대체에서는 map함수 활용"
   ]
  },
  {
   "cell_type": "markdown",
   "id": "04404ee7",
   "metadata": {
    "papermill": {
     "duration": 0.015073,
     "end_time": "2023-11-28T02:09:01.726695",
     "exception": false,
     "start_time": "2023-11-28T02:09:01.711622",
     "status": "completed"
    },
    "tags": []
   },
   "source": [
    "## 풀이"
   ]
  },
  {
   "cell_type": "code",
   "execution_count": 6,
   "id": "7a5bbad2",
   "metadata": {
    "execution": {
     "iopub.execute_input": "2023-11-28T02:09:01.763563Z",
     "iopub.status.busy": "2023-11-28T02:09:01.762838Z",
     "iopub.status.idle": "2023-11-28T02:09:01.776647Z",
     "shell.execute_reply": "2023-11-28T02:09:01.777088Z",
     "shell.execute_reply.started": "2021-11-16T13:12:20.604562Z"
    },
    "papermill": {
     "duration": 0.035134,
     "end_time": "2023-11-28T02:09:01.777245",
     "exception": false,
     "start_time": "2023-11-28T02:09:01.742111",
     "status": "completed"
    },
    "tags": []
   },
   "outputs": [
    {
     "data": {
      "text/html": [
       "<div>\n",
       "<style scoped>\n",
       "    .dataframe tbody tr th:only-of-type {\n",
       "        vertical-align: middle;\n",
       "    }\n",
       "\n",
       "    .dataframe tbody tr th {\n",
       "        vertical-align: top;\n",
       "    }\n",
       "\n",
       "    .dataframe thead th {\n",
       "        text-align: right;\n",
       "    }\n",
       "</style>\n",
       "<table border=\"1\" class=\"dataframe\">\n",
       "  <thead>\n",
       "    <tr style=\"text-align: right;\">\n",
       "      <th></th>\n",
       "      <th>id</th>\n",
       "      <th>age</th>\n",
       "      <th>city</th>\n",
       "      <th>f1</th>\n",
       "      <th>f2</th>\n",
       "      <th>f3</th>\n",
       "      <th>f4</th>\n",
       "      <th>f5</th>\n",
       "    </tr>\n",
       "  </thead>\n",
       "  <tbody>\n",
       "    <tr>\n",
       "      <th>0</th>\n",
       "      <td>id01</td>\n",
       "      <td>2.0</td>\n",
       "      <td>서울</td>\n",
       "      <td>NaN</td>\n",
       "      <td>0</td>\n",
       "      <td>NaN</td>\n",
       "      <td>ENFJ</td>\n",
       "      <td>91.297791</td>\n",
       "    </tr>\n",
       "    <tr>\n",
       "      <th>1</th>\n",
       "      <td>id02</td>\n",
       "      <td>9.0</td>\n",
       "      <td>서울</td>\n",
       "      <td>70.0</td>\n",
       "      <td>1</td>\n",
       "      <td>NaN</td>\n",
       "      <td>ENFJ</td>\n",
       "      <td>60.339826</td>\n",
       "    </tr>\n",
       "    <tr>\n",
       "      <th>2</th>\n",
       "      <td>id03</td>\n",
       "      <td>27.0</td>\n",
       "      <td>서울</td>\n",
       "      <td>61.0</td>\n",
       "      <td>1</td>\n",
       "      <td>NaN</td>\n",
       "      <td>ISTJ</td>\n",
       "      <td>17.252986</td>\n",
       "    </tr>\n",
       "    <tr>\n",
       "      <th>3</th>\n",
       "      <td>id04</td>\n",
       "      <td>75.0</td>\n",
       "      <td>서울</td>\n",
       "      <td>NaN</td>\n",
       "      <td>2</td>\n",
       "      <td>NaN</td>\n",
       "      <td>INFP</td>\n",
       "      <td>52.667078</td>\n",
       "    </tr>\n",
       "    <tr>\n",
       "      <th>4</th>\n",
       "      <td>id05</td>\n",
       "      <td>24.0</td>\n",
       "      <td>서울</td>\n",
       "      <td>85.0</td>\n",
       "      <td>2</td>\n",
       "      <td>NaN</td>\n",
       "      <td>ISFJ</td>\n",
       "      <td>29.269869</td>\n",
       "    </tr>\n",
       "  </tbody>\n",
       "</table>\n",
       "</div>"
      ],
      "text/plain": [
       "     id   age city    f1  f2   f3    f4         f5\n",
       "0  id01   2.0   서울   NaN   0  NaN  ENFJ  91.297791\n",
       "1  id02   9.0   서울  70.0   1  NaN  ENFJ  60.339826\n",
       "2  id03  27.0   서울  61.0   1  NaN  ISTJ  17.252986\n",
       "3  id04  75.0   서울   NaN   2  NaN  INFP  52.667078\n",
       "4  id05  24.0   서울  85.0   2  NaN  ISFJ  29.269869"
      ]
     },
     "execution_count": 6,
     "metadata": {},
     "output_type": "execute_result"
    }
   ],
   "source": [
    "# 라이브러리 및 데이터 불러오기\n",
    "import pandas as pd\n",
    "import numpy as np\n",
    "\n",
    "df = pd.read_csv('../input/bigdatacertificationkr/basic1.csv')\n",
    "df.head()"
   ]
  },
  {
   "cell_type": "code",
   "execution_count": 7,
   "id": "b8847caa",
   "metadata": {
    "_cell_guid": "b1076dfc-b9ad-4769-8c92-a6c4dae69d19",
    "_uuid": "8f2839f25d086af736a60e9eeb907d3b93b6e0e5",
    "execution": {
     "iopub.execute_input": "2023-11-28T02:09:01.818903Z",
     "iopub.status.busy": "2023-11-28T02:09:01.818109Z",
     "iopub.status.idle": "2023-11-28T02:09:01.825710Z",
     "shell.execute_reply": "2023-11-28T02:09:01.826176Z",
     "shell.execute_reply.started": "2021-11-16T13:12:20.646885Z"
    },
    "papermill": {
     "duration": 0.02986,
     "end_time": "2023-11-28T02:09:01.826363",
     "exception": false,
     "start_time": "2023-11-28T02:09:01.796503",
     "status": "completed"
    },
    "tags": []
   },
   "outputs": [
    {
     "data": {
      "text/plain": [
       "id       0\n",
       "age      0\n",
       "city     0\n",
       "f1      31\n",
       "f2       0\n",
       "f3      95\n",
       "f4       0\n",
       "f5       0\n",
       "dtype: int64"
      ]
     },
     "execution_count": 7,
     "metadata": {},
     "output_type": "execute_result"
    }
   ],
   "source": [
    "# EDA - 결측값 확인\n",
    "df.isnull().sum()"
   ]
  },
  {
   "cell_type": "code",
   "execution_count": 8,
   "id": "9b1a3325",
   "metadata": {
    "execution": {
     "iopub.execute_input": "2023-11-28T02:09:01.862451Z",
     "iopub.status.busy": "2023-11-28T02:09:01.861807Z",
     "iopub.status.idle": "2023-11-28T02:09:01.868233Z",
     "shell.execute_reply": "2023-11-28T02:09:01.868681Z",
     "shell.execute_reply.started": "2021-11-16T13:12:20.658708Z"
    },
    "papermill": {
     "duration": 0.026347,
     "end_time": "2023-11-28T02:09:01.868863",
     "exception": false,
     "start_time": "2023-11-28T02:09:01.842516",
     "status": "completed"
    },
    "tags": []
   },
   "outputs": [
    {
     "data": {
      "text/plain": [
       "(100, 8)"
      ]
     },
     "execution_count": 8,
     "metadata": {},
     "output_type": "execute_result"
    }
   ],
   "source": [
    "# 데이터 shape\n",
    "df.shape"
   ]
  },
  {
   "cell_type": "code",
   "execution_count": 9,
   "id": "8afea802",
   "metadata": {
    "execution": {
     "iopub.execute_input": "2023-11-28T02:09:01.913291Z",
     "iopub.status.busy": "2023-11-28T02:09:01.907955Z",
     "iopub.status.idle": "2023-11-28T02:09:01.916059Z",
     "shell.execute_reply": "2023-11-28T02:09:01.916486Z",
     "shell.execute_reply.started": "2021-11-16T13:12:20.666565Z"
    },
    "papermill": {
     "duration": 0.029196,
     "end_time": "2023-11-28T02:09:01.916646",
     "exception": false,
     "start_time": "2023-11-28T02:09:01.887450",
     "status": "completed"
    },
    "tags": []
   },
   "outputs": [
    {
     "data": {
      "text/plain": [
       "id      0.00\n",
       "age     0.00\n",
       "city    0.00\n",
       "f1      0.31\n",
       "f2      0.00\n",
       "f3      0.95\n",
       "f4      0.00\n",
       "f5      0.00\n",
       "dtype: float64"
      ]
     },
     "execution_count": 9,
     "metadata": {},
     "output_type": "execute_result"
    }
   ],
   "source": [
    "# EDA - 결측비율 확인\n",
    "df.isnull().sum()/df.shape[0]"
   ]
  },
  {
   "cell_type": "code",
   "execution_count": 10,
   "id": "d0128ada",
   "metadata": {
    "execution": {
     "iopub.execute_input": "2023-11-28T02:09:01.953391Z",
     "iopub.status.busy": "2023-11-28T02:09:01.952648Z",
     "iopub.status.idle": "2023-11-28T02:09:01.961047Z",
     "shell.execute_reply": "2023-11-28T02:09:01.961527Z",
     "shell.execute_reply.started": "2021-11-16T13:12:20.684652Z"
    },
    "papermill": {
     "duration": 0.028286,
     "end_time": "2023-11-28T02:09:01.961687",
     "exception": false,
     "start_time": "2023-11-28T02:09:01.933401",
     "status": "completed"
    },
    "tags": []
   },
   "outputs": [
    {
     "name": "stdout",
     "output_type": "stream",
     "text": [
      "삭제 전: (100, 8)\n",
      "삭제 후: (100, 7)\n"
     ]
    }
   ],
   "source": [
    "# f3 컬럼 삭제\n",
    "print(\"삭제 전:\", df.shape)\n",
    "df = df.drop(['f3'], axis=1)\n",
    "print(\"삭제 후:\", df.shape)\n",
    "\n",
    "# 결측치가 있는 컬럼을 제거하는 2가지 방법\n",
    "# df.drop(['B', 'C'], axis=1)\n",
    "# df.drop(columns=['B', 'C'])"
   ]
  },
  {
   "cell_type": "code",
   "execution_count": 11,
   "id": "5459caed",
   "metadata": {
    "execution": {
     "iopub.execute_input": "2023-11-28T02:09:02.002540Z",
     "iopub.status.busy": "2023-11-28T02:09:01.998184Z",
     "iopub.status.idle": "2023-11-28T02:09:02.005538Z",
     "shell.execute_reply": "2023-11-28T02:09:02.006069Z",
     "shell.execute_reply.started": "2021-11-16T13:12:46.466467Z"
    },
    "papermill": {
     "duration": 0.027409,
     "end_time": "2023-11-28T02:09:02.006229",
     "exception": false,
     "start_time": "2023-11-28T02:09:01.978820",
     "status": "completed"
    },
    "tags": []
   },
   "outputs": [
    {
     "data": {
      "text/plain": [
       "array(['서울', '부산', '대구', '경기'], dtype=object)"
      ]
     },
     "execution_count": 11,
     "metadata": {},
     "output_type": "execute_result"
    }
   ],
   "source": [
    "# 도시 확인\n",
    "df['city'].unique()"
   ]
  },
  {
   "cell_type": "code",
   "execution_count": 12,
   "id": "5296c2a6",
   "metadata": {
    "execution": {
     "iopub.execute_input": "2023-11-28T02:09:02.042882Z",
     "iopub.status.busy": "2023-11-28T02:09:02.042326Z",
     "iopub.status.idle": "2023-11-28T02:09:02.052491Z",
     "shell.execute_reply": "2023-11-28T02:09:02.052934Z",
     "shell.execute_reply.started": "2021-11-16T13:12:20.715384Z"
    },
    "papermill": {
     "duration": 0.029884,
     "end_time": "2023-11-28T02:09:02.053084",
     "exception": false,
     "start_time": "2023-11-28T02:09:02.023200",
     "status": "completed"
    },
    "tags": []
   },
   "outputs": [
    {
     "data": {
      "text/plain": [
       "(68.0, 58.0, 62.0, 75.0)"
      ]
     },
     "execution_count": 12,
     "metadata": {},
     "output_type": "execute_result"
    }
   ],
   "source": [
    "# 도시별 중앙값 계산\n",
    "s=df[df['city']=='서울']['f1'].median()\n",
    "k=df[df['city']=='경기']['f1'].median()\n",
    "b=df[df['city']=='부산']['f1'].median()\n",
    "d=df[df['city']=='대구']['f1'].median()\n",
    "s, k, b, d\n",
    "\n",
    "#방법2\n",
    "# k, d, b, s = df.groupby('city')['f1'].median()"
   ]
  },
  {
   "cell_type": "code",
   "execution_count": 13,
   "id": "fa69352a",
   "metadata": {
    "execution": {
     "iopub.execute_input": "2023-11-28T02:09:02.091080Z",
     "iopub.status.busy": "2023-11-28T02:09:02.090517Z",
     "iopub.status.idle": "2023-11-28T02:09:02.103209Z",
     "shell.execute_reply": "2023-11-28T02:09:02.102660Z",
     "shell.execute_reply.started": "2021-11-16T13:12:20.731771Z"
    },
    "papermill": {
     "duration": 0.032313,
     "end_time": "2023-11-28T02:09:02.103334",
     "exception": false,
     "start_time": "2023-11-28T02:09:02.071021",
     "status": "completed"
    },
    "tags": []
   },
   "outputs": [
    {
     "data": {
      "text/html": [
       "<div>\n",
       "<style scoped>\n",
       "    .dataframe tbody tr th:only-of-type {\n",
       "        vertical-align: middle;\n",
       "    }\n",
       "\n",
       "    .dataframe tbody tr th {\n",
       "        vertical-align: top;\n",
       "    }\n",
       "\n",
       "    .dataframe thead th {\n",
       "        text-align: right;\n",
       "    }\n",
       "</style>\n",
       "<table border=\"1\" class=\"dataframe\">\n",
       "  <thead>\n",
       "    <tr style=\"text-align: right;\">\n",
       "      <th></th>\n",
       "      <th>id</th>\n",
       "      <th>age</th>\n",
       "      <th>city</th>\n",
       "      <th>f1</th>\n",
       "      <th>f2</th>\n",
       "      <th>f4</th>\n",
       "      <th>f5</th>\n",
       "    </tr>\n",
       "  </thead>\n",
       "  <tbody>\n",
       "    <tr>\n",
       "      <th>18</th>\n",
       "      <td>id19</td>\n",
       "      <td>53.0</td>\n",
       "      <td>서울</td>\n",
       "      <td>NaN</td>\n",
       "      <td>0</td>\n",
       "      <td>ISFP</td>\n",
       "      <td>83.685380</td>\n",
       "    </tr>\n",
       "    <tr>\n",
       "      <th>19</th>\n",
       "      <td>id20</td>\n",
       "      <td>11.0</td>\n",
       "      <td>서울</td>\n",
       "      <td>51.0</td>\n",
       "      <td>1</td>\n",
       "      <td>INTJ</td>\n",
       "      <td>91.297791</td>\n",
       "    </tr>\n",
       "    <tr>\n",
       "      <th>20</th>\n",
       "      <td>id21</td>\n",
       "      <td>90.0</td>\n",
       "      <td>부산</td>\n",
       "      <td>NaN</td>\n",
       "      <td>1</td>\n",
       "      <td>ISFP</td>\n",
       "      <td>29.269869</td>\n",
       "    </tr>\n",
       "  </tbody>\n",
       "</table>\n",
       "</div>"
      ],
      "text/plain": [
       "      id   age city    f1  f2    f4         f5\n",
       "18  id19  53.0   서울   NaN   0  ISFP  83.685380\n",
       "19  id20  11.0   서울  51.0   1  INTJ  91.297791\n",
       "20  id21  90.0   부산   NaN   1  ISFP  29.269869"
      ]
     },
     "execution_count": 13,
     "metadata": {},
     "output_type": "execute_result"
    }
   ],
   "source": [
    "# 대체 전 데이터 샘플 출력\n",
    "df[18:21]"
   ]
  },
  {
   "cell_type": "code",
   "execution_count": 14,
   "id": "eadb1854",
   "metadata": {
    "execution": {
     "iopub.execute_input": "2023-11-28T02:09:02.145930Z",
     "iopub.status.busy": "2023-11-28T02:09:02.145239Z",
     "iopub.status.idle": "2023-11-28T02:09:02.147631Z",
     "shell.execute_reply": "2023-11-28T02:09:02.148044Z",
     "shell.execute_reply.started": "2021-11-16T13:12:20.751783Z"
    },
    "papermill": {
     "duration": 0.027081,
     "end_time": "2023-11-28T02:09:02.148196",
     "exception": false,
     "start_time": "2023-11-28T02:09:02.121115",
     "status": "completed"
    },
    "tags": []
   },
   "outputs": [],
   "source": [
    "# f1결측치 city별 중앙값으로 대체\n",
    "df['f1'] = df['f1'].fillna(df['city'].map({'서울':s,'경기':k,'부산':b,'대구':d}))\n",
    "\n",
    "# 만약 그냥 f1 중앙값으로 대체 한다면 \n",
    "# df['f1'] = df['f1'].fillna(df['f1'].median())"
   ]
  },
  {
   "cell_type": "code",
   "execution_count": 15,
   "id": "1d35021a",
   "metadata": {
    "execution": {
     "iopub.execute_input": "2023-11-28T02:09:02.202178Z",
     "iopub.status.busy": "2023-11-28T02:09:02.195574Z",
     "iopub.status.idle": "2023-11-28T02:09:02.204885Z",
     "shell.execute_reply": "2023-11-28T02:09:02.205350Z",
     "shell.execute_reply.started": "2021-11-16T13:12:20.764397Z"
    },
    "papermill": {
     "duration": 0.035713,
     "end_time": "2023-11-28T02:09:02.205505",
     "exception": false,
     "start_time": "2023-11-28T02:09:02.169792",
     "status": "completed"
    },
    "tags": []
   },
   "outputs": [
    {
     "data": {
      "text/html": [
       "<div>\n",
       "<style scoped>\n",
       "    .dataframe tbody tr th:only-of-type {\n",
       "        vertical-align: middle;\n",
       "    }\n",
       "\n",
       "    .dataframe tbody tr th {\n",
       "        vertical-align: top;\n",
       "    }\n",
       "\n",
       "    .dataframe thead th {\n",
       "        text-align: right;\n",
       "    }\n",
       "</style>\n",
       "<table border=\"1\" class=\"dataframe\">\n",
       "  <thead>\n",
       "    <tr style=\"text-align: right;\">\n",
       "      <th></th>\n",
       "      <th>id</th>\n",
       "      <th>age</th>\n",
       "      <th>city</th>\n",
       "      <th>f1</th>\n",
       "      <th>f2</th>\n",
       "      <th>f4</th>\n",
       "      <th>f5</th>\n",
       "    </tr>\n",
       "  </thead>\n",
       "  <tbody>\n",
       "    <tr>\n",
       "      <th>18</th>\n",
       "      <td>id19</td>\n",
       "      <td>53.0</td>\n",
       "      <td>서울</td>\n",
       "      <td>68.0</td>\n",
       "      <td>0</td>\n",
       "      <td>ISFP</td>\n",
       "      <td>83.685380</td>\n",
       "    </tr>\n",
       "    <tr>\n",
       "      <th>19</th>\n",
       "      <td>id20</td>\n",
       "      <td>11.0</td>\n",
       "      <td>서울</td>\n",
       "      <td>51.0</td>\n",
       "      <td>1</td>\n",
       "      <td>INTJ</td>\n",
       "      <td>91.297791</td>\n",
       "    </tr>\n",
       "    <tr>\n",
       "      <th>20</th>\n",
       "      <td>id21</td>\n",
       "      <td>90.0</td>\n",
       "      <td>부산</td>\n",
       "      <td>62.0</td>\n",
       "      <td>1</td>\n",
       "      <td>ISFP</td>\n",
       "      <td>29.269869</td>\n",
       "    </tr>\n",
       "  </tbody>\n",
       "</table>\n",
       "</div>"
      ],
      "text/plain": [
       "      id   age city    f1  f2    f4         f5\n",
       "18  id19  53.0   서울  68.0   0  ISFP  83.685380\n",
       "19  id20  11.0   서울  51.0   1  INTJ  91.297791\n",
       "20  id21  90.0   부산  62.0   1  ISFP  29.269869"
      ]
     },
     "execution_count": 15,
     "metadata": {},
     "output_type": "execute_result"
    }
   ],
   "source": [
    "# 대체 후 데이터 샘플 출력\n",
    "df[18:21]"
   ]
  },
  {
   "cell_type": "code",
   "execution_count": 16,
   "id": "a3708784",
   "metadata": {
    "execution": {
     "iopub.execute_input": "2023-11-28T02:09:02.248087Z",
     "iopub.status.busy": "2023-11-28T02:09:02.247374Z",
     "iopub.status.idle": "2023-11-28T02:09:02.253809Z",
     "shell.execute_reply": "2023-11-28T02:09:02.253207Z",
     "shell.execute_reply.started": "2021-11-16T13:12:20.778996Z"
    },
    "papermill": {
     "duration": 0.027232,
     "end_time": "2023-11-28T02:09:02.253997",
     "exception": false,
     "start_time": "2023-11-28T02:09:02.226765",
     "status": "completed"
    },
    "tags": []
   },
   "outputs": [
    {
     "name": "stdout",
     "output_type": "stream",
     "text": [
      "65.52\n"
     ]
    }
   ],
   "source": [
    "#결과 출력\n",
    "print(df['f1'].mean())"
   ]
  }
 ],
 "metadata": {
  "kaggle": {
   "accelerator": "none",
   "dataSources": [
    {
     "datasetId": 1633303,
     "sourceId": 7061047,
     "sourceType": "datasetVersion"
    }
   ],
   "dockerImageVersionId": 30129,
   "isGpuEnabled": false,
   "isInternetEnabled": true,
   "language": "python",
   "sourceType": "notebook"
  },
  "kernelspec": {
   "display_name": "Python 3",
   "language": "python",
   "name": "python3"
  },
  "language_info": {
   "codemirror_mode": {
    "name": "ipython",
    "version": 3
   },
   "file_extension": ".py",
   "mimetype": "text/x-python",
   "name": "python",
   "nbconvert_exporter": "python",
   "pygments_lexer": "ipython3",
   "version": "3.7.10"
  },
  "papermill": {
   "default_parameters": {},
   "duration": 9.775656,
   "end_time": "2023-11-28T02:09:03.686312",
   "environment_variables": {},
   "exception": null,
   "input_path": "__notebook__.ipynb",
   "output_path": "__notebook__.ipynb",
   "parameters": {},
   "start_time": "2023-11-28T02:08:53.910656",
   "version": "2.3.3"
  }
 },
 "nbformat": 4,
 "nbformat_minor": 5
}
