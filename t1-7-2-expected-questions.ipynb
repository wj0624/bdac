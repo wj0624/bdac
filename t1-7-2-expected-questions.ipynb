{
 "cells": [
  {
   "cell_type": "markdown",
   "id": "de680600",
   "metadata": {
    "papermill": {
     "duration": 0.013082,
     "end_time": "2023-11-28T02:46:50.432562",
     "exception": false,
     "start_time": "2023-11-28T02:46:50.419480",
     "status": "completed"
    },
    "tags": []
   },
   "source": [
    "### 'f4'컬럼의 값이 'ESFJ'인 데이터를 'ISFJ'로 대체하고, 'city'가 '경기'이면서 'f4'가 'ISFJ'인 데이터 중 'age'컬럼의 최대값을 출력하시오!\n",
    "- 데이터셋 : basic1.csv\n",
    "- 오른쪽 상단 copy&edit 클릭 -> 예상문제 풀이 시작"
   ]
  },
  {
   "cell_type": "code",
   "execution_count": 1,
   "id": "f64efd2c",
   "metadata": {
    "execution": {
     "iopub.execute_input": "2023-11-28T02:46:50.467495Z",
     "iopub.status.busy": "2023-11-28T02:46:50.464632Z",
     "iopub.status.idle": "2023-11-28T02:46:50.486441Z",
     "shell.execute_reply": "2023-11-28T02:46:50.485711Z",
     "shell.execute_reply.started": "2023-11-28T02:43:09.234307Z"
    },
    "papermill": {
     "duration": 0.041808,
     "end_time": "2023-11-28T02:46:50.486695",
     "exception": false,
     "start_time": "2023-11-28T02:46:50.444887",
     "status": "completed"
    },
    "tags": []
   },
   "outputs": [],
   "source": [
    "# 라이브러리 및 데이터 불러오기\n",
    "import pandas as pd\n",
    "import numpy as np\n",
    "\n",
    "df = pd.read_csv('/kaggle/input/bigdatacertificationkr/basic1.csv')"
   ]
  },
  {
   "cell_type": "code",
   "execution_count": 2,
   "id": "8342cd83",
   "metadata": {
    "execution": {
     "iopub.execute_input": "2023-11-28T02:46:50.520022Z",
     "iopub.status.busy": "2023-11-28T02:46:50.519211Z",
     "iopub.status.idle": "2023-11-28T02:46:50.540151Z",
     "shell.execute_reply": "2023-11-28T02:46:50.540671Z",
     "shell.execute_reply.started": "2023-11-28T02:43:16.618453Z"
    },
    "papermill": {
     "duration": 0.041558,
     "end_time": "2023-11-28T02:46:50.540855",
     "exception": false,
     "start_time": "2023-11-28T02:46:50.499297",
     "status": "completed"
    },
    "tags": []
   },
   "outputs": [
    {
     "data": {
      "text/html": [
       "<div>\n",
       "<style scoped>\n",
       "    .dataframe tbody tr th:only-of-type {\n",
       "        vertical-align: middle;\n",
       "    }\n",
       "\n",
       "    .dataframe tbody tr th {\n",
       "        vertical-align: top;\n",
       "    }\n",
       "\n",
       "    .dataframe thead th {\n",
       "        text-align: right;\n",
       "    }\n",
       "</style>\n",
       "<table border=\"1\" class=\"dataframe\">\n",
       "  <thead>\n",
       "    <tr style=\"text-align: right;\">\n",
       "      <th></th>\n",
       "      <th>id</th>\n",
       "      <th>age</th>\n",
       "      <th>city</th>\n",
       "      <th>f1</th>\n",
       "      <th>f2</th>\n",
       "      <th>f3</th>\n",
       "      <th>f4</th>\n",
       "      <th>f5</th>\n",
       "    </tr>\n",
       "  </thead>\n",
       "  <tbody>\n",
       "    <tr>\n",
       "      <th>8</th>\n",
       "      <td>id09</td>\n",
       "      <td>3.3</td>\n",
       "      <td>서울</td>\n",
       "      <td>35.0</td>\n",
       "      <td>2</td>\n",
       "      <td>NaN</td>\n",
       "      <td>ESFJ</td>\n",
       "      <td>17.252986</td>\n",
       "    </tr>\n",
       "    <tr>\n",
       "      <th>12</th>\n",
       "      <td>id13</td>\n",
       "      <td>15.0</td>\n",
       "      <td>서울</td>\n",
       "      <td>68.0</td>\n",
       "      <td>0</td>\n",
       "      <td>NaN</td>\n",
       "      <td>ESFJ</td>\n",
       "      <td>83.685380</td>\n",
       "    </tr>\n",
       "    <tr>\n",
       "      <th>30</th>\n",
       "      <td>id31</td>\n",
       "      <td>86.0</td>\n",
       "      <td>부산</td>\n",
       "      <td>77.0</td>\n",
       "      <td>0</td>\n",
       "      <td>NaN</td>\n",
       "      <td>ESFJ</td>\n",
       "      <td>73.586397</td>\n",
       "    </tr>\n",
       "    <tr>\n",
       "      <th>58</th>\n",
       "      <td>id59</td>\n",
       "      <td>64.0</td>\n",
       "      <td>대구</td>\n",
       "      <td>NaN</td>\n",
       "      <td>1</td>\n",
       "      <td>NaN</td>\n",
       "      <td>ESFJ</td>\n",
       "      <td>20.129444</td>\n",
       "    </tr>\n",
       "    <tr>\n",
       "      <th>98</th>\n",
       "      <td>id99</td>\n",
       "      <td>1.0</td>\n",
       "      <td>경기</td>\n",
       "      <td>47.0</td>\n",
       "      <td>0</td>\n",
       "      <td>NaN</td>\n",
       "      <td>ESFJ</td>\n",
       "      <td>97.381034</td>\n",
       "    </tr>\n",
       "  </tbody>\n",
       "</table>\n",
       "</div>"
      ],
      "text/plain": [
       "      id   age city    f1  f2   f3    f4         f5\n",
       "8   id09   3.3   서울  35.0   2  NaN  ESFJ  17.252986\n",
       "12  id13  15.0   서울  68.0   0  NaN  ESFJ  83.685380\n",
       "30  id31  86.0   부산  77.0   0  NaN  ESFJ  73.586397\n",
       "58  id59  64.0   대구   NaN   1  NaN  ESFJ  20.129444\n",
       "98  id99   1.0   경기  47.0   0  NaN  ESFJ  97.381034"
      ]
     },
     "execution_count": 2,
     "metadata": {},
     "output_type": "execute_result"
    }
   ],
   "source": [
    "# ESFJ 값을 가진 데이터 확인\n",
    "df[df['f4']=='ESFJ']"
   ]
  },
  {
   "cell_type": "code",
   "execution_count": 3,
   "id": "12cad785",
   "metadata": {
    "execution": {
     "iopub.execute_input": "2023-11-28T02:46:50.569527Z",
     "iopub.status.busy": "2023-11-28T02:46:50.568860Z",
     "iopub.status.idle": "2023-11-28T02:46:50.580190Z",
     "shell.execute_reply": "2023-11-28T02:46:50.580719Z",
     "shell.execute_reply.started": "2023-11-28T02:44:07.158337Z"
    },
    "papermill": {
     "duration": 0.026575,
     "end_time": "2023-11-28T02:46:50.580906",
     "exception": false,
     "start_time": "2023-11-28T02:46:50.554331",
     "status": "completed"
    },
    "tags": []
   },
   "outputs": [
    {
     "data": {
      "text/html": [
       "<div>\n",
       "<style scoped>\n",
       "    .dataframe tbody tr th:only-of-type {\n",
       "        vertical-align: middle;\n",
       "    }\n",
       "\n",
       "    .dataframe tbody tr th {\n",
       "        vertical-align: top;\n",
       "    }\n",
       "\n",
       "    .dataframe thead th {\n",
       "        text-align: right;\n",
       "    }\n",
       "</style>\n",
       "<table border=\"1\" class=\"dataframe\">\n",
       "  <thead>\n",
       "    <tr style=\"text-align: right;\">\n",
       "      <th></th>\n",
       "      <th>id</th>\n",
       "      <th>age</th>\n",
       "      <th>city</th>\n",
       "      <th>f1</th>\n",
       "      <th>f2</th>\n",
       "      <th>f3</th>\n",
       "      <th>f4</th>\n",
       "      <th>f5</th>\n",
       "    </tr>\n",
       "  </thead>\n",
       "  <tbody>\n",
       "  </tbody>\n",
       "</table>\n",
       "</div>"
      ],
      "text/plain": [
       "Empty DataFrame\n",
       "Columns: [id, age, city, f1, f2, f3, f4, f5]\n",
       "Index: []"
      ]
     },
     "execution_count": 3,
     "metadata": {},
     "output_type": "execute_result"
    }
   ],
   "source": [
    "# 값 변경하기\n",
    "df['f4'] = df['f4'].replace('ESFJ', 'ISFJ')\n",
    "df[df['f4']=='ESFJ']"
   ]
  },
  {
   "cell_type": "code",
   "execution_count": 4,
   "id": "1eaff9f7",
   "metadata": {
    "execution": {
     "iopub.execute_input": "2023-11-28T02:46:50.609538Z",
     "iopub.status.busy": "2023-11-28T02:46:50.608798Z",
     "iopub.status.idle": "2023-11-28T02:46:50.615918Z",
     "shell.execute_reply": "2023-11-28T02:46:50.615375Z",
     "shell.execute_reply.started": "2023-11-28T02:45:32.103753Z"
    },
    "papermill": {
     "duration": 0.022495,
     "end_time": "2023-11-28T02:46:50.616067",
     "exception": false,
     "start_time": "2023-11-28T02:46:50.593572",
     "status": "completed"
    },
    "tags": []
   },
   "outputs": [
    {
     "name": "stdout",
     "output_type": "stream",
     "text": [
      "90.0\n"
     ]
    }
   ],
   "source": [
    "# 2개의 조건에 맞는 값중 age컬럼의 최대값\n",
    "print(max(df[(df['city']=='경기')&(df['f4']=='ISFJ')]['age']))"
   ]
  },
  {
   "cell_type": "markdown",
   "id": "54e91dab",
   "metadata": {
    "papermill": {
     "duration": 0.013031,
     "end_time": "2023-11-28T02:46:50.641993",
     "exception": false,
     "start_time": "2023-11-28T02:46:50.628962",
     "status": "completed"
    },
    "tags": []
   },
   "source": [
    "## Hint"
   ]
  },
  {
   "cell_type": "code",
   "execution_count": 5,
   "id": "e0c13691",
   "metadata": {
    "execution": {
     "iopub.execute_input": "2023-11-28T02:46:50.677661Z",
     "iopub.status.busy": "2023-11-28T02:46:50.676805Z",
     "iopub.status.idle": "2023-11-28T02:46:50.680058Z",
     "shell.execute_reply": "2023-11-28T02:46:50.680589Z",
     "shell.execute_reply.started": "2023-11-28T02:45:44.747899Z"
    },
    "papermill": {
     "duration": 0.025986,
     "end_time": "2023-11-28T02:46:50.680775",
     "exception": false,
     "start_time": "2023-11-28T02:46:50.654789",
     "status": "completed"
    },
    "tags": []
   },
   "outputs": [
    {
     "data": {
      "text/html": [
       "<div>\n",
       "<style scoped>\n",
       "    .dataframe tbody tr th:only-of-type {\n",
       "        vertical-align: middle;\n",
       "    }\n",
       "\n",
       "    .dataframe tbody tr th {\n",
       "        vertical-align: top;\n",
       "    }\n",
       "\n",
       "    .dataframe thead th {\n",
       "        text-align: right;\n",
       "    }\n",
       "</style>\n",
       "<table border=\"1\" class=\"dataframe\">\n",
       "  <thead>\n",
       "    <tr style=\"text-align: right;\">\n",
       "      <th></th>\n",
       "      <th>0</th>\n",
       "    </tr>\n",
       "  </thead>\n",
       "  <tbody>\n",
       "    <tr>\n",
       "      <th>0</th>\n",
       "      <td>2</td>\n",
       "    </tr>\n",
       "    <tr>\n",
       "      <th>1</th>\n",
       "      <td>1</td>\n",
       "    </tr>\n",
       "    <tr>\n",
       "      <th>2</th>\n",
       "      <td>2</td>\n",
       "    </tr>\n",
       "    <tr>\n",
       "      <th>3</th>\n",
       "      <td>1</td>\n",
       "    </tr>\n",
       "    <tr>\n",
       "      <th>4</th>\n",
       "      <td>2</td>\n",
       "    </tr>\n",
       "  </tbody>\n",
       "</table>\n",
       "</div>"
      ],
      "text/plain": [
       "   0\n",
       "0  2\n",
       "1  1\n",
       "2  2\n",
       "3  1\n",
       "4  2"
      ]
     },
     "execution_count": 5,
     "metadata": {},
     "output_type": "execute_result"
    }
   ],
   "source": [
    "# 값 변경하기\n",
    "import pandas as pd\n",
    "data = pd.DataFrame([0, 1, 0, 1, 0])\n",
    "data = data.replace(0, 2)\n",
    "data"
   ]
  },
  {
   "cell_type": "markdown",
   "id": "c278fbae",
   "metadata": {
    "papermill": {
     "duration": 0.012816,
     "end_time": "2023-11-28T02:46:50.706684",
     "exception": false,
     "start_time": "2023-11-28T02:46:50.693868",
     "status": "completed"
    },
    "tags": []
   },
   "source": [
    "## 풀이"
   ]
  },
  {
   "cell_type": "code",
   "execution_count": 6,
   "id": "6bc7b04e",
   "metadata": {
    "_cell_guid": "b1076dfc-b9ad-4769-8c92-a6c4dae69d19",
    "_uuid": "8f2839f25d086af736a60e9eeb907d3b93b6e0e5",
    "execution": {
     "iopub.execute_input": "2023-11-28T02:46:50.738194Z",
     "iopub.status.busy": "2023-11-28T02:46:50.737188Z",
     "iopub.status.idle": "2023-11-28T02:46:50.754001Z",
     "shell.execute_reply": "2023-11-28T02:46:50.754573Z",
     "shell.execute_reply.started": "2023-11-28T02:45:50.554362Z"
    },
    "papermill": {
     "duration": 0.034351,
     "end_time": "2023-11-28T02:46:50.754767",
     "exception": false,
     "start_time": "2023-11-28T02:46:50.720416",
     "status": "completed"
    },
    "tags": []
   },
   "outputs": [
    {
     "data": {
      "text/html": [
       "<div>\n",
       "<style scoped>\n",
       "    .dataframe tbody tr th:only-of-type {\n",
       "        vertical-align: middle;\n",
       "    }\n",
       "\n",
       "    .dataframe tbody tr th {\n",
       "        vertical-align: top;\n",
       "    }\n",
       "\n",
       "    .dataframe thead th {\n",
       "        text-align: right;\n",
       "    }\n",
       "</style>\n",
       "<table border=\"1\" class=\"dataframe\">\n",
       "  <thead>\n",
       "    <tr style=\"text-align: right;\">\n",
       "      <th></th>\n",
       "      <th>id</th>\n",
       "      <th>age</th>\n",
       "      <th>city</th>\n",
       "      <th>f1</th>\n",
       "      <th>f2</th>\n",
       "      <th>f3</th>\n",
       "      <th>f4</th>\n",
       "      <th>f5</th>\n",
       "    </tr>\n",
       "  </thead>\n",
       "  <tbody>\n",
       "    <tr>\n",
       "      <th>0</th>\n",
       "      <td>id01</td>\n",
       "      <td>2.0</td>\n",
       "      <td>서울</td>\n",
       "      <td>NaN</td>\n",
       "      <td>0</td>\n",
       "      <td>NaN</td>\n",
       "      <td>ENFJ</td>\n",
       "      <td>91.297791</td>\n",
       "    </tr>\n",
       "    <tr>\n",
       "      <th>1</th>\n",
       "      <td>id02</td>\n",
       "      <td>9.0</td>\n",
       "      <td>서울</td>\n",
       "      <td>70.0</td>\n",
       "      <td>1</td>\n",
       "      <td>NaN</td>\n",
       "      <td>ENFJ</td>\n",
       "      <td>60.339826</td>\n",
       "    </tr>\n",
       "  </tbody>\n",
       "</table>\n",
       "</div>"
      ],
      "text/plain": [
       "     id  age city    f1  f2   f3    f4         f5\n",
       "0  id01  2.0   서울   NaN   0  NaN  ENFJ  91.297791\n",
       "1  id02  9.0   서울  70.0   1  NaN  ENFJ  60.339826"
      ]
     },
     "execution_count": 6,
     "metadata": {},
     "output_type": "execute_result"
    }
   ],
   "source": [
    "# 라이브러리 및 데이터 불러오기\n",
    "import pandas as pd\n",
    "import numpy as np\n",
    "\n",
    "df = pd.read_csv('../input/bigdatacertificationkr/basic1.csv')\n",
    "df.head(2)"
   ]
  },
  {
   "cell_type": "code",
   "execution_count": 7,
   "id": "db278daf",
   "metadata": {
    "execution": {
     "iopub.execute_input": "2023-11-28T02:46:50.786383Z",
     "iopub.status.busy": "2023-11-28T02:46:50.785364Z",
     "iopub.status.idle": "2023-11-28T02:46:50.801172Z",
     "shell.execute_reply": "2023-11-28T02:46:50.800519Z",
     "shell.execute_reply.started": "2023-11-28T02:45:53.377908Z"
    },
    "papermill": {
     "duration": 0.032996,
     "end_time": "2023-11-28T02:46:50.801322",
     "exception": false,
     "start_time": "2023-11-28T02:46:50.768326",
     "status": "completed"
    },
    "tags": []
   },
   "outputs": [
    {
     "data": {
      "text/html": [
       "<div>\n",
       "<style scoped>\n",
       "    .dataframe tbody tr th:only-of-type {\n",
       "        vertical-align: middle;\n",
       "    }\n",
       "\n",
       "    .dataframe tbody tr th {\n",
       "        vertical-align: top;\n",
       "    }\n",
       "\n",
       "    .dataframe thead th {\n",
       "        text-align: right;\n",
       "    }\n",
       "</style>\n",
       "<table border=\"1\" class=\"dataframe\">\n",
       "  <thead>\n",
       "    <tr style=\"text-align: right;\">\n",
       "      <th></th>\n",
       "      <th>id</th>\n",
       "      <th>age</th>\n",
       "      <th>city</th>\n",
       "      <th>f1</th>\n",
       "      <th>f2</th>\n",
       "      <th>f3</th>\n",
       "      <th>f4</th>\n",
       "      <th>f5</th>\n",
       "    </tr>\n",
       "  </thead>\n",
       "  <tbody>\n",
       "    <tr>\n",
       "      <th>8</th>\n",
       "      <td>id09</td>\n",
       "      <td>3.3</td>\n",
       "      <td>서울</td>\n",
       "      <td>35.0</td>\n",
       "      <td>2</td>\n",
       "      <td>NaN</td>\n",
       "      <td>ESFJ</td>\n",
       "      <td>17.252986</td>\n",
       "    </tr>\n",
       "    <tr>\n",
       "      <th>12</th>\n",
       "      <td>id13</td>\n",
       "      <td>15.0</td>\n",
       "      <td>서울</td>\n",
       "      <td>68.0</td>\n",
       "      <td>0</td>\n",
       "      <td>NaN</td>\n",
       "      <td>ESFJ</td>\n",
       "      <td>83.685380</td>\n",
       "    </tr>\n",
       "    <tr>\n",
       "      <th>30</th>\n",
       "      <td>id31</td>\n",
       "      <td>86.0</td>\n",
       "      <td>부산</td>\n",
       "      <td>77.0</td>\n",
       "      <td>0</td>\n",
       "      <td>NaN</td>\n",
       "      <td>ESFJ</td>\n",
       "      <td>73.586397</td>\n",
       "    </tr>\n",
       "    <tr>\n",
       "      <th>58</th>\n",
       "      <td>id59</td>\n",
       "      <td>64.0</td>\n",
       "      <td>대구</td>\n",
       "      <td>NaN</td>\n",
       "      <td>1</td>\n",
       "      <td>NaN</td>\n",
       "      <td>ESFJ</td>\n",
       "      <td>20.129444</td>\n",
       "    </tr>\n",
       "    <tr>\n",
       "      <th>98</th>\n",
       "      <td>id99</td>\n",
       "      <td>1.0</td>\n",
       "      <td>경기</td>\n",
       "      <td>47.0</td>\n",
       "      <td>0</td>\n",
       "      <td>NaN</td>\n",
       "      <td>ESFJ</td>\n",
       "      <td>97.381034</td>\n",
       "    </tr>\n",
       "  </tbody>\n",
       "</table>\n",
       "</div>"
      ],
      "text/plain": [
       "      id   age city    f1  f2   f3    f4         f5\n",
       "8   id09   3.3   서울  35.0   2  NaN  ESFJ  17.252986\n",
       "12  id13  15.0   서울  68.0   0  NaN  ESFJ  83.685380\n",
       "30  id31  86.0   부산  77.0   0  NaN  ESFJ  73.586397\n",
       "58  id59  64.0   대구   NaN   1  NaN  ESFJ  20.129444\n",
       "98  id99   1.0   경기  47.0   0  NaN  ESFJ  97.381034"
      ]
     },
     "execution_count": 7,
     "metadata": {},
     "output_type": "execute_result"
    }
   ],
   "source": [
    "# ESFJ 값을 가진 데이터 확인\n",
    "df[df['f4'] == 'ESFJ']"
   ]
  },
  {
   "cell_type": "code",
   "execution_count": 8,
   "id": "cbf3eb6e",
   "metadata": {
    "execution": {
     "iopub.execute_input": "2023-11-28T02:46:50.837830Z",
     "iopub.status.busy": "2023-11-28T02:46:50.836859Z",
     "iopub.status.idle": "2023-11-28T02:46:50.839719Z",
     "shell.execute_reply": "2023-11-28T02:46:50.839169Z",
     "shell.execute_reply.started": "2023-11-28T02:45:55.700735Z"
    },
    "papermill": {
     "duration": 0.022454,
     "end_time": "2023-11-28T02:46:50.839873",
     "exception": false,
     "start_time": "2023-11-28T02:46:50.817419",
     "status": "completed"
    },
    "tags": []
   },
   "outputs": [],
   "source": [
    "# 값 변경하기\n",
    "df['f4'] = df['f4'].replace('ESFJ', 'ISFJ')"
   ]
  },
  {
   "cell_type": "code",
   "execution_count": 9,
   "id": "0528c378",
   "metadata": {
    "execution": {
     "iopub.execute_input": "2023-11-28T02:46:50.873728Z",
     "iopub.status.busy": "2023-11-28T02:46:50.872762Z",
     "iopub.status.idle": "2023-11-28T02:46:50.883459Z",
     "shell.execute_reply": "2023-11-28T02:46:50.883975Z",
     "shell.execute_reply.started": "2023-11-28T02:45:57.292832Z"
    },
    "papermill": {
     "duration": 0.030344,
     "end_time": "2023-11-28T02:46:50.884155",
     "exception": false,
     "start_time": "2023-11-28T02:46:50.853811",
     "status": "completed"
    },
    "tags": []
   },
   "outputs": [
    {
     "data": {
      "text/html": [
       "<div>\n",
       "<style scoped>\n",
       "    .dataframe tbody tr th:only-of-type {\n",
       "        vertical-align: middle;\n",
       "    }\n",
       "\n",
       "    .dataframe tbody tr th {\n",
       "        vertical-align: top;\n",
       "    }\n",
       "\n",
       "    .dataframe thead th {\n",
       "        text-align: right;\n",
       "    }\n",
       "</style>\n",
       "<table border=\"1\" class=\"dataframe\">\n",
       "  <thead>\n",
       "    <tr style=\"text-align: right;\">\n",
       "      <th></th>\n",
       "      <th>id</th>\n",
       "      <th>age</th>\n",
       "      <th>city</th>\n",
       "      <th>f1</th>\n",
       "      <th>f2</th>\n",
       "      <th>f3</th>\n",
       "      <th>f4</th>\n",
       "      <th>f5</th>\n",
       "    </tr>\n",
       "  </thead>\n",
       "  <tbody>\n",
       "  </tbody>\n",
       "</table>\n",
       "</div>"
      ],
      "text/plain": [
       "Empty DataFrame\n",
       "Columns: [id, age, city, f1, f2, f3, f4, f5]\n",
       "Index: []"
      ]
     },
     "execution_count": 9,
     "metadata": {},
     "output_type": "execute_result"
    }
   ],
   "source": [
    "# ESFJ 값을 가진 데이터 확인\n",
    "df[df['f4'] == 'ESFJ']"
   ]
  },
  {
   "cell_type": "code",
   "execution_count": 10,
   "id": "3c5a171e",
   "metadata": {
    "execution": {
     "iopub.execute_input": "2023-11-28T02:46:50.917804Z",
     "iopub.status.busy": "2023-11-28T02:46:50.916740Z",
     "iopub.status.idle": "2023-11-28T02:46:50.932256Z",
     "shell.execute_reply": "2023-11-28T02:46:50.932756Z",
     "shell.execute_reply.started": "2023-11-28T02:45:59.123597Z"
    },
    "papermill": {
     "duration": 0.034387,
     "end_time": "2023-11-28T02:46:50.932947",
     "exception": false,
     "start_time": "2023-11-28T02:46:50.898560",
     "status": "completed"
    },
    "tags": []
   },
   "outputs": [
    {
     "data": {
      "text/html": [
       "<div>\n",
       "<style scoped>\n",
       "    .dataframe tbody tr th:only-of-type {\n",
       "        vertical-align: middle;\n",
       "    }\n",
       "\n",
       "    .dataframe tbody tr th {\n",
       "        vertical-align: top;\n",
       "    }\n",
       "\n",
       "    .dataframe thead th {\n",
       "        text-align: right;\n",
       "    }\n",
       "</style>\n",
       "<table border=\"1\" class=\"dataframe\">\n",
       "  <thead>\n",
       "    <tr style=\"text-align: right;\">\n",
       "      <th></th>\n",
       "      <th>id</th>\n",
       "      <th>age</th>\n",
       "      <th>city</th>\n",
       "      <th>f1</th>\n",
       "      <th>f2</th>\n",
       "      <th>f3</th>\n",
       "      <th>f4</th>\n",
       "      <th>f5</th>\n",
       "    </tr>\n",
       "  </thead>\n",
       "  <tbody>\n",
       "    <tr>\n",
       "      <th>62</th>\n",
       "      <td>id63</td>\n",
       "      <td>88.0</td>\n",
       "      <td>경기</td>\n",
       "      <td>86.0</td>\n",
       "      <td>1</td>\n",
       "      <td>NaN</td>\n",
       "      <td>ISFJ</td>\n",
       "      <td>73.586397</td>\n",
       "    </tr>\n",
       "    <tr>\n",
       "      <th>66</th>\n",
       "      <td>id67</td>\n",
       "      <td>66.0</td>\n",
       "      <td>경기</td>\n",
       "      <td>52.0</td>\n",
       "      <td>1</td>\n",
       "      <td>NaN</td>\n",
       "      <td>ISFJ</td>\n",
       "      <td>73.586397</td>\n",
       "    </tr>\n",
       "    <tr>\n",
       "      <th>72</th>\n",
       "      <td>id73</td>\n",
       "      <td>90.0</td>\n",
       "      <td>경기</td>\n",
       "      <td>NaN</td>\n",
       "      <td>1</td>\n",
       "      <td>NaN</td>\n",
       "      <td>ISFJ</td>\n",
       "      <td>73.586397</td>\n",
       "    </tr>\n",
       "    <tr>\n",
       "      <th>80</th>\n",
       "      <td>id81</td>\n",
       "      <td>86.0</td>\n",
       "      <td>경기</td>\n",
       "      <td>50.0</td>\n",
       "      <td>1</td>\n",
       "      <td>NaN</td>\n",
       "      <td>ISFJ</td>\n",
       "      <td>37.113739</td>\n",
       "    </tr>\n",
       "    <tr>\n",
       "      <th>98</th>\n",
       "      <td>id99</td>\n",
       "      <td>1.0</td>\n",
       "      <td>경기</td>\n",
       "      <td>47.0</td>\n",
       "      <td>0</td>\n",
       "      <td>NaN</td>\n",
       "      <td>ISFJ</td>\n",
       "      <td>97.381034</td>\n",
       "    </tr>\n",
       "  </tbody>\n",
       "</table>\n",
       "</div>"
      ],
      "text/plain": [
       "      id   age city    f1  f2   f3    f4         f5\n",
       "62  id63  88.0   경기  86.0   1  NaN  ISFJ  73.586397\n",
       "66  id67  66.0   경기  52.0   1  NaN  ISFJ  73.586397\n",
       "72  id73  90.0   경기   NaN   1  NaN  ISFJ  73.586397\n",
       "80  id81  86.0   경기  50.0   1  NaN  ISFJ  37.113739\n",
       "98  id99   1.0   경기  47.0   0  NaN  ISFJ  97.381034"
      ]
     },
     "execution_count": 10,
     "metadata": {},
     "output_type": "execute_result"
    }
   ],
   "source": [
    "# 2개의 조건에 맞는 값\n",
    "df[(df['f4'] == 'ISFJ') & (df['city'] == '경기')]"
   ]
  },
  {
   "cell_type": "code",
   "execution_count": 11,
   "id": "def3ebd4",
   "metadata": {
    "execution": {
     "iopub.execute_input": "2023-11-28T02:46:50.972007Z",
     "iopub.status.busy": "2023-11-28T02:46:50.971126Z",
     "iopub.status.idle": "2023-11-28T02:46:50.974452Z",
     "shell.execute_reply": "2023-11-28T02:46:50.974951Z",
     "shell.execute_reply.started": "2023-11-28T02:46:03.308709Z"
    },
    "papermill": {
     "duration": 0.027208,
     "end_time": "2023-11-28T02:46:50.975131",
     "exception": false,
     "start_time": "2023-11-28T02:46:50.947923",
     "status": "completed"
    },
    "tags": []
   },
   "outputs": [
    {
     "data": {
      "text/plain": [
       "90.0"
      ]
     },
     "execution_count": 11,
     "metadata": {},
     "output_type": "execute_result"
    }
   ],
   "source": [
    "# 2개의 조건에 맞는 값중 age컬럼의 최대값\n",
    "df[(df['f4'] == 'ISFJ') & (df['city'] == '경기')]['age'].max()"
   ]
  },
  {
   "cell_type": "code",
   "execution_count": null,
   "id": "3ed31394",
   "metadata": {
    "papermill": {
     "duration": 0.015519,
     "end_time": "2023-11-28T02:46:51.006263",
     "exception": false,
     "start_time": "2023-11-28T02:46:50.990744",
     "status": "completed"
    },
    "tags": []
   },
   "outputs": [],
   "source": []
  }
 ],
 "metadata": {
  "kaggle": {
   "accelerator": "none",
   "dataSources": [
    {
     "datasetId": 1633303,
     "sourceId": 7061047,
     "sourceType": "datasetVersion"
    }
   ],
   "dockerImageVersionId": 30129,
   "isGpuEnabled": false,
   "isInternetEnabled": true,
   "language": "python",
   "sourceType": "notebook"
  },
  "kernelspec": {
   "display_name": "Python 3",
   "language": "python",
   "name": "python3"
  },
  "language_info": {
   "codemirror_mode": {
    "name": "ipython",
    "version": 3
   },
   "file_extension": ".py",
   "mimetype": "text/x-python",
   "name": "python",
   "nbconvert_exporter": "python",
   "pygments_lexer": "ipython3",
   "version": "3.7.10"
  },
  "papermill": {
   "default_parameters": {},
   "duration": 9.698689,
   "end_time": "2023-11-28T02:46:52.316066",
   "environment_variables": {},
   "exception": null,
   "input_path": "__notebook__.ipynb",
   "output_path": "__notebook__.ipynb",
   "parameters": {},
   "start_time": "2023-11-28T02:46:42.617377",
   "version": "2.3.3"
  }
 },
 "nbformat": 4,
 "nbformat_minor": 5
}
